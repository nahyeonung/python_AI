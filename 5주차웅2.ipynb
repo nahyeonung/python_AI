{
 "cells": [
  {
   "cell_type": "code",
   "execution_count": 44,
   "metadata": {
    "executionInfo": {
     "elapsed": 347,
     "status": "ok",
     "timestamp": 1645084541848,
     "user": {
      "displayName": "김민주",
      "photoUrl": "https://lh3.googleusercontent.com/a/default-user=s64",
      "userId": "11516921233831833366"
     },
     "user_tz": -540
    },
    "id": "KK6Hn5gkxlqE"
   },
   "outputs": [],
   "source": [
    "import pandas as pd"
   ]
  },
  {
   "cell_type": "code",
   "execution_count": 45,
   "metadata": {
    "executionInfo": {
     "elapsed": 286,
     "status": "ok",
     "timestamp": 1645084545247,
     "user": {
      "displayName": "김민주",
      "photoUrl": "https://lh3.googleusercontent.com/a/default-user=s64",
      "userId": "11516921233831833366"
     },
     "user_tz": -540
    },
    "id": "zgCJcLtryqKd"
   },
   "outputs": [],
   "source": [
    "#UTF-8이 가장 흔하게 쓰이는 인코딩. 그래서 encoding = '' 부분을 생략하면 UTF-8로 인코딩하는 것.\n",
    "#cp949는 windows에서 쓰이는 한글 코드셋입니다. 일명 확장완성형 (UHC)이라고 하죠.\n",
    "#euc-kr은 확장유닉스 코드입니다. 그외 iso-2022-kr도 있는데 표현가능한 코드영역이 약간씩 다르다고 합니다.\n",
    "#https://kldp.org/node/18838 cp949설명\n",
    "#https://velog.io/@gggggeun1/Colab%EC%97%90%EC%84%9C-%ED%8C%8C%EC%9D%BC-%EB%B6%88%EB%9F%AC%EC%98%A4%EA%B8%B0-%EB%B0%8F-%ED%8C%8C%EC%9D%BC-%EC%84%A4%EC%A0%95\n",
    "profiles_df = pd.read_csv('ML_data_profiles.csv', encoding='CP949')\n",
    "streams_df = pd.read_csv('ML_data_streams_trng.csv', encoding='CP949')"
   ]
  },
  {
   "cell_type": "code",
   "execution_count": 46,
   "metadata": {
    "colab": {
     "base_uri": "https://localhost:8080/",
     "height": 424
    },
    "executionInfo": {
     "elapsed": 1794,
     "status": "ok",
     "timestamp": 1645084547039,
     "user": {
      "displayName": "김민주",
      "photoUrl": "https://lh3.googleusercontent.com/a/default-user=s64",
      "userId": "11516921233831833366"
     },
     "user_tz": -540
    },
    "id": "y73Dv1RQ_zdQ",
    "outputId": "2a0c5a8f-eea2-4541-c7cc-1320be6d99a9"
   },
   "outputs": [
    {
     "data": {
      "text/html": [
       "<div>\n",
       "<style scoped>\n",
       "    .dataframe tbody tr th:only-of-type {\n",
       "        vertical-align: middle;\n",
       "    }\n",
       "\n",
       "    .dataframe tbody tr th {\n",
       "        vertical-align: top;\n",
       "    }\n",
       "\n",
       "    .dataframe thead th {\n",
       "        text-align: right;\n",
       "    }\n",
       "</style>\n",
       "<table border=\"1\" class=\"dataframe\">\n",
       "  <thead>\n",
       "    <tr style=\"text-align: right;\">\n",
       "      <th></th>\n",
       "      <th>CUS_ID</th>\n",
       "      <th>TIME_ID</th>\n",
       "      <th>SITE</th>\n",
       "      <th>SITE_CNT</th>\n",
       "      <th>ST_TIME</th>\n",
       "      <th>SITE_NM</th>\n",
       "      <th>BACT_NM</th>\n",
       "      <th>MACT_NM</th>\n",
       "      <th>ACT_NM</th>\n",
       "    </tr>\n",
       "  </thead>\n",
       "  <tbody>\n",
       "    <tr>\n",
       "      <th>0</th>\n",
       "      <td>1</td>\n",
       "      <td>2012073111</td>\n",
       "      <td>news.naver.com</td>\n",
       "      <td>1</td>\n",
       "      <td>38</td>\n",
       "      <td>네이버 뉴스</td>\n",
       "      <td>뉴스/미디어</td>\n",
       "      <td>인터넷신문</td>\n",
       "      <td>포털뉴스</td>\n",
       "    </tr>\n",
       "    <tr>\n",
       "      <th>1</th>\n",
       "      <td>1</td>\n",
       "      <td>2013053001</td>\n",
       "      <td>www.naver.com</td>\n",
       "      <td>3</td>\n",
       "      <td>0</td>\n",
       "      <td>네이버</td>\n",
       "      <td>인터넷/컴퓨터</td>\n",
       "      <td>포털</td>\n",
       "      <td>종합포털</td>\n",
       "    </tr>\n",
       "    <tr>\n",
       "      <th>2</th>\n",
       "      <td>1</td>\n",
       "      <td>2013052900</td>\n",
       "      <td>www.naver.com</td>\n",
       "      <td>1</td>\n",
       "      <td>0</td>\n",
       "      <td>네이버</td>\n",
       "      <td>인터넷/컴퓨터</td>\n",
       "      <td>포털</td>\n",
       "      <td>종합포털</td>\n",
       "    </tr>\n",
       "    <tr>\n",
       "      <th>3</th>\n",
       "      <td>1</td>\n",
       "      <td>2012071102</td>\n",
       "      <td>krdic.naver.com</td>\n",
       "      <td>1</td>\n",
       "      <td>60</td>\n",
       "      <td>네이버 사전</td>\n",
       "      <td>온라인교육</td>\n",
       "      <td>학술정보</td>\n",
       "      <td>포털사전</td>\n",
       "    </tr>\n",
       "    <tr>\n",
       "      <th>4</th>\n",
       "      <td>1</td>\n",
       "      <td>2012101203</td>\n",
       "      <td>www.naver.com</td>\n",
       "      <td>2</td>\n",
       "      <td>30</td>\n",
       "      <td>네이버</td>\n",
       "      <td>인터넷/컴퓨터</td>\n",
       "      <td>포털</td>\n",
       "      <td>종합포털</td>\n",
       "    </tr>\n",
       "    <tr>\n",
       "      <th>...</th>\n",
       "      <td>...</td>\n",
       "      <td>...</td>\n",
       "      <td>...</td>\n",
       "      <td>...</td>\n",
       "      <td>...</td>\n",
       "      <td>...</td>\n",
       "      <td>...</td>\n",
       "      <td>...</td>\n",
       "      <td>...</td>\n",
       "    </tr>\n",
       "    <tr>\n",
       "      <th>99995</th>\n",
       "      <td>1321</td>\n",
       "      <td>2013042319</td>\n",
       "      <td>www.netmarble.net</td>\n",
       "      <td>12</td>\n",
       "      <td>294</td>\n",
       "      <td>넷마블</td>\n",
       "      <td>게임</td>\n",
       "      <td>게임포털</td>\n",
       "      <td>게임포털</td>\n",
       "    </tr>\n",
       "    <tr>\n",
       "      <th>99996</th>\n",
       "      <td>1321</td>\n",
       "      <td>2012072409</td>\n",
       "      <td>media.daum.net</td>\n",
       "      <td>3</td>\n",
       "      <td>0</td>\n",
       "      <td>미디어다음</td>\n",
       "      <td>뉴스/미디어</td>\n",
       "      <td>인터넷신문</td>\n",
       "      <td>포털뉴스</td>\n",
       "    </tr>\n",
       "    <tr>\n",
       "      <th>99997</th>\n",
       "      <td>1321</td>\n",
       "      <td>2013021206</td>\n",
       "      <td>search.naver.com</td>\n",
       "      <td>1</td>\n",
       "      <td>0</td>\n",
       "      <td>네이버 검색</td>\n",
       "      <td>인터넷/컴퓨터</td>\n",
       "      <td>검색</td>\n",
       "      <td>포털검색</td>\n",
       "    </tr>\n",
       "    <tr>\n",
       "      <th>99998</th>\n",
       "      <td>1321</td>\n",
       "      <td>2013020619</td>\n",
       "      <td>www.netmarble.net</td>\n",
       "      <td>2</td>\n",
       "      <td>95</td>\n",
       "      <td>넷마블</td>\n",
       "      <td>게임</td>\n",
       "      <td>게임포털</td>\n",
       "      <td>게임포털</td>\n",
       "    </tr>\n",
       "    <tr>\n",
       "      <th>99999</th>\n",
       "      <td>1321</td>\n",
       "      <td>2012122617</td>\n",
       "      <td>www.netmarble.net</td>\n",
       "      <td>1</td>\n",
       "      <td>60</td>\n",
       "      <td>넷마블</td>\n",
       "      <td>게임</td>\n",
       "      <td>게임포털</td>\n",
       "      <td>게임포털</td>\n",
       "    </tr>\n",
       "  </tbody>\n",
       "</table>\n",
       "<p>100000 rows × 9 columns</p>\n",
       "</div>"
      ],
      "text/plain": [
       "       CUS_ID     TIME_ID               SITE  SITE_CNT  ST_TIME SITE_NM  \\\n",
       "0           1  2012073111     news.naver.com         1       38  네이버 뉴스   \n",
       "1           1  2013053001      www.naver.com         3        0     네이버   \n",
       "2           1  2013052900      www.naver.com         1        0     네이버   \n",
       "3           1  2012071102    krdic.naver.com         1       60  네이버 사전   \n",
       "4           1  2012101203      www.naver.com         2       30     네이버   \n",
       "...       ...         ...                ...       ...      ...     ...   \n",
       "99995    1321  2013042319  www.netmarble.net        12      294     넷마블   \n",
       "99996    1321  2012072409     media.daum.net         3        0   미디어다음   \n",
       "99997    1321  2013021206   search.naver.com         1        0  네이버 검색   \n",
       "99998    1321  2013020619  www.netmarble.net         2       95     넷마블   \n",
       "99999    1321  2012122617  www.netmarble.net         1       60     넷마블   \n",
       "\n",
       "       BACT_NM MACT_NM ACT_NM  \n",
       "0       뉴스/미디어   인터넷신문   포털뉴스  \n",
       "1      인터넷/컴퓨터      포털   종합포털  \n",
       "2      인터넷/컴퓨터      포털   종합포털  \n",
       "3        온라인교육    학술정보   포털사전  \n",
       "4      인터넷/컴퓨터      포털   종합포털  \n",
       "...        ...     ...    ...  \n",
       "99995       게임    게임포털   게임포털  \n",
       "99996   뉴스/미디어   인터넷신문   포털뉴스  \n",
       "99997  인터넷/컴퓨터      검색   포털검색  \n",
       "99998       게임    게임포털   게임포털  \n",
       "99999       게임    게임포털   게임포털  \n",
       "\n",
       "[100000 rows x 9 columns]"
      ]
     },
     "execution_count": 46,
     "metadata": {},
     "output_type": "execute_result"
    }
   ],
   "source": [
    "streams_df"
   ]
  },
  {
   "cell_type": "code",
   "execution_count": 47,
   "metadata": {
    "colab": {
     "base_uri": "https://localhost:8080/",
     "height": 424
    },
    "executionInfo": {
     "elapsed": 16,
     "status": "ok",
     "timestamp": 1645084547040,
     "user": {
      "displayName": "김민주",
      "photoUrl": "https://lh3.googleusercontent.com/a/default-user=s64",
      "userId": "11516921233831833366"
     },
     "user_tz": -540
    },
    "id": "P3BcgEdPzs8A",
    "outputId": "14d721ec-7096-49f8-ee99-65cc894fd3cf"
   },
   "outputs": [
    {
     "data": {
      "text/html": [
       "<div>\n",
       "<style scoped>\n",
       "    .dataframe tbody tr th:only-of-type {\n",
       "        vertical-align: middle;\n",
       "    }\n",
       "\n",
       "    .dataframe tbody tr th {\n",
       "        vertical-align: top;\n",
       "    }\n",
       "\n",
       "    .dataframe thead th {\n",
       "        text-align: right;\n",
       "    }\n",
       "</style>\n",
       "<table border=\"1\" class=\"dataframe\">\n",
       "  <thead>\n",
       "    <tr style=\"text-align: right;\">\n",
       "      <th></th>\n",
       "      <th>CUS_ID</th>\n",
       "      <th>GENDER</th>\n",
       "      <th>AGE</th>\n",
       "      <th>RESIDENCE</th>\n",
       "      <th>GROUP</th>\n",
       "    </tr>\n",
       "  </thead>\n",
       "  <tbody>\n",
       "    <tr>\n",
       "      <th>0</th>\n",
       "      <td>1</td>\n",
       "      <td>남자</td>\n",
       "      <td>40</td>\n",
       "      <td>충청</td>\n",
       "      <td>M40+</td>\n",
       "    </tr>\n",
       "    <tr>\n",
       "      <th>57</th>\n",
       "      <td>105</td>\n",
       "      <td>남자</td>\n",
       "      <td>40</td>\n",
       "      <td>충청</td>\n",
       "      <td>M40+</td>\n",
       "    </tr>\n",
       "    <tr>\n",
       "      <th>84</th>\n",
       "      <td>1074</td>\n",
       "      <td>남자</td>\n",
       "      <td>40</td>\n",
       "      <td>충청</td>\n",
       "      <td>M40+</td>\n",
       "    </tr>\n",
       "    <tr>\n",
       "      <th>101</th>\n",
       "      <td>109</td>\n",
       "      <td>남자</td>\n",
       "      <td>30</td>\n",
       "      <td>충청</td>\n",
       "      <td>M30</td>\n",
       "    </tr>\n",
       "    <tr>\n",
       "      <th>122</th>\n",
       "      <td>1108</td>\n",
       "      <td>남자</td>\n",
       "      <td>40</td>\n",
       "      <td>충청</td>\n",
       "      <td>M40+</td>\n",
       "    </tr>\n",
       "    <tr>\n",
       "      <th>...</th>\n",
       "      <td>...</td>\n",
       "      <td>...</td>\n",
       "      <td>...</td>\n",
       "      <td>...</td>\n",
       "      <td>...</td>\n",
       "    </tr>\n",
       "    <tr>\n",
       "      <th>1802</th>\n",
       "      <td>370</td>\n",
       "      <td>남자</td>\n",
       "      <td>20</td>\n",
       "      <td>충청</td>\n",
       "      <td>M20-</td>\n",
       "    </tr>\n",
       "    <tr>\n",
       "      <th>1808</th>\n",
       "      <td>376</td>\n",
       "      <td>남자</td>\n",
       "      <td>50</td>\n",
       "      <td>충청</td>\n",
       "      <td>M40+</td>\n",
       "    </tr>\n",
       "    <tr>\n",
       "      <th>1847</th>\n",
       "      <td>410</td>\n",
       "      <td>남자</td>\n",
       "      <td>40</td>\n",
       "      <td>충청</td>\n",
       "      <td>M40+</td>\n",
       "    </tr>\n",
       "    <tr>\n",
       "      <th>1873</th>\n",
       "      <td>434</td>\n",
       "      <td>남자</td>\n",
       "      <td>50</td>\n",
       "      <td>충청</td>\n",
       "      <td>M40+</td>\n",
       "    </tr>\n",
       "    <tr>\n",
       "      <th>1954</th>\n",
       "      <td>507</td>\n",
       "      <td>남자</td>\n",
       "      <td>30</td>\n",
       "      <td>충청</td>\n",
       "      <td>M30</td>\n",
       "    </tr>\n",
       "  </tbody>\n",
       "</table>\n",
       "<p>70 rows × 5 columns</p>\n",
       "</div>"
      ],
      "text/plain": [
       "      CUS_ID GENDER  AGE RESIDENCE GROUP\n",
       "0          1     남자   40        충청  M40+\n",
       "57       105     남자   40        충청  M40+\n",
       "84      1074     남자   40        충청  M40+\n",
       "101      109     남자   30        충청   M30\n",
       "122     1108     남자   40        충청  M40+\n",
       "...      ...    ...  ...       ...   ...\n",
       "1802     370     남자   20        충청  M20-\n",
       "1808     376     남자   50        충청  M40+\n",
       "1847     410     남자   40        충청  M40+\n",
       "1873     434     남자   50        충청  M40+\n",
       "1954     507     남자   30        충청   M30\n",
       "\n",
       "[70 rows x 5 columns]"
      ]
     },
     "execution_count": 47,
     "metadata": {},
     "output_type": "execute_result"
    }
   ],
   "source": [
    "profiles_df.loc[profiles_df[\"GENDER\"]==\"남자\"]\n",
    "profiles_df.loc[profiles_df[\"GENDER\"]==\"여자\"]\n",
    "profiles_df.loc[(profiles_df[\"GENDER\"]==\"남자\") & (profiles_df[\"RESIDENCE\"]==\"충청\")]\n",
    "#https://blog.naver.com/PostView.nhn?isHttpsRedirect=true&blogId=bosongmoon&logNo=221572727121 특정 속성값이 있는 행만 추출"
   ]
  },
  {
   "cell_type": "code",
   "execution_count": 1,
   "metadata": {
    "colab": {
     "base_uri": "https://localhost:8080/",
     "height": 424
    },
    "executionInfo": {
     "elapsed": 14,
     "status": "ok",
     "timestamp": 1645084547040,
     "user": {
      "displayName": "김민주",
      "photoUrl": "https://lh3.googleusercontent.com/a/default-user=s64",
      "userId": "11516921233831833366"
     },
     "user_tz": -540
    },
    "id": "2W_fm29oALhm",
    "outputId": "7ab3a9d0-a046-44ab-aa28-c71df7ee7114"
   },
   "outputs": [
    {
     "name": "stderr",
     "output_type": "stream",
     "text": [
      "C:\\Users\\user\\anaconda3\\lib\\site-packages\\statsmodels\\tsa\\base\\tsa_model.py:7: FutureWarning: pandas.Int64Index is deprecated and will be removed from pandas in a future version. Use pandas.Index with the appropriate dtype instead.\n",
      "  from pandas import (to_datetime, Int64Index, DatetimeIndex, Period,\n",
      "C:\\Users\\user\\anaconda3\\lib\\site-packages\\statsmodels\\tsa\\base\\tsa_model.py:7: FutureWarning: pandas.Float64Index is deprecated and will be removed from pandas in a future version. Use pandas.Index with the appropriate dtype instead.\n",
      "  from pandas import (to_datetime, Int64Index, DatetimeIndex, Period,\n"
     ]
    },
    {
     "ename": "NameError",
     "evalue": "name 'profiles_df' is not defined",
     "output_type": "error",
     "traceback": [
      "\u001b[1;31m---------------------------------------------------------------------------\u001b[0m",
      "\u001b[1;31mNameError\u001b[0m                                 Traceback (most recent call last)",
      "\u001b[1;32m~\\AppData\\Local\\Temp/ipykernel_2536/3110725921.py\u001b[0m in \u001b[0;36m<module>\u001b[1;34m\u001b[0m\n\u001b[0;32m      2\u001b[0m \u001b[1;32mimport\u001b[0m \u001b[0mstatsmodels\u001b[0m\u001b[1;33m.\u001b[0m\u001b[0mformula\u001b[0m\u001b[1;33m.\u001b[0m\u001b[0mapi\u001b[0m \u001b[1;32mas\u001b[0m \u001b[0msmf\u001b[0m\u001b[1;33m\u001b[0m\u001b[1;33m\u001b[0m\u001b[0m\n\u001b[0;32m      3\u001b[0m \u001b[1;32mimport\u001b[0m \u001b[0mpandas\u001b[0m \u001b[1;32mas\u001b[0m \u001b[0mpd\u001b[0m\u001b[1;33m\u001b[0m\u001b[1;33m\u001b[0m\u001b[0m\n\u001b[1;32m----> 4\u001b[1;33m \u001b[0mresult_df\u001b[0m \u001b[1;33m=\u001b[0m \u001b[0mpd\u001b[0m\u001b[1;33m.\u001b[0m\u001b[0mmerge\u001b[0m\u001b[1;33m(\u001b[0m\u001b[0mprofiles_df\u001b[0m\u001b[1;33m,\u001b[0m \u001b[0mstreams_df\u001b[0m\u001b[1;33m,\u001b[0m \u001b[0mon\u001b[0m\u001b[1;33m=\u001b[0m\u001b[1;34m'CUS_ID'\u001b[0m\u001b[1;33m,\u001b[0m \u001b[0mhow\u001b[0m\u001b[1;33m=\u001b[0m\u001b[1;34m'left'\u001b[0m\u001b[1;33m)\u001b[0m\u001b[1;33m\u001b[0m\u001b[1;33m\u001b[0m\u001b[0m\n\u001b[0m\u001b[0;32m      5\u001b[0m \u001b[1;31m#https://engineer-mole.tistory.com/208\u001b[0m\u001b[1;33m\u001b[0m\u001b[1;33m\u001b[0m\u001b[0m\n\u001b[0;32m      6\u001b[0m \u001b[0mresult_df\u001b[0m\u001b[1;33m\u001b[0m\u001b[1;33m\u001b[0m\u001b[0m\n",
      "\u001b[1;31mNameError\u001b[0m: name 'profiles_df' is not defined"
     ]
    }
   ],
   "source": [
    "result_df = pd.merge(profiles_df, streams_df, on='CUS_ID', how='left')\n",
    "#https://engineer-mole.tistory.com/208\n",
    "result_df"
   ]
  },
  {
   "cell_type": "code",
   "execution_count": 49,
   "metadata": {
    "colab": {
     "base_uri": "https://localhost:8080/"
    },
    "executionInfo": {
     "elapsed": 13,
     "status": "ok",
     "timestamp": 1645084547040,
     "user": {
      "displayName": "김민주",
      "photoUrl": "https://lh3.googleusercontent.com/a/default-user=s64",
      "userId": "11516921233831833366"
     },
     "user_tz": -540
    },
    "id": "DSlZ_hUz6gLe",
    "outputId": "23829b10-6f52-4828-85fa-c29ed18b6796"
   },
   "outputs": [
    {
     "name": "stdout",
     "output_type": "stream",
     "text": [
      "<bound method DataFrame.isna of        CUS_ID GENDER  AGE RESIDENCE GROUP     TIME_ID                SITE  \\\n",
      "0           1     남자   40        충청  M40+  2012073111      news.naver.com   \n",
      "1           1     남자   40        충청  M40+  2013053001       www.naver.com   \n",
      "2           1     남자   40        충청  M40+  2013052900       www.naver.com   \n",
      "3           1     남자   40        충청  M40+  2012071102     krdic.naver.com   \n",
      "4           1     남자   40        충청  M40+  2012101203       www.naver.com   \n",
      "...       ...    ...  ...       ...   ...         ...                 ...   \n",
      "99995     548     여자   30        부산   F30  2012071117  shopping.naver.com   \n",
      "99996     548     여자   30        부산   F30  2012100717        jr.naver.com   \n",
      "99997     548     여자   30        부산   F30  2013012716       www.naver.com   \n",
      "99998     548     여자   30        부산   F30  2013041313      blog.naver.com   \n",
      "99999     548     여자   30        부산   F30  2013052215   www.hometax.go.kr   \n",
      "\n",
      "       SITE_CNT  ST_TIME   SITE_NM  BACT_NM  MACT_NM ACT_NM  \n",
      "0             1       38    네이버 뉴스   뉴스/미디어    인터넷신문   포털뉴스  \n",
      "1             3        0       네이버  인터넷/컴퓨터       포털   종합포털  \n",
      "2             1        0       네이버  인터넷/컴퓨터       포털   종합포털  \n",
      "3             1       60    네이버 사전    온라인교육     학술정보   포털사전  \n",
      "4             2       30       네이버  인터넷/컴퓨터       포털   종합포털  \n",
      "...         ...      ...       ...      ...      ...    ...  \n",
      "99995         2      267  네이버 지식쇼핑       쇼핑     가격비교   포털쇼핑  \n",
      "99996         1       10    쥬니어네이버     커뮤니티  어린이커뮤니티  포털어린이  \n",
      "99997         4       15       네이버  인터넷/컴퓨터       포털   종합포털  \n",
      "99998         3      293   네이버 블로그     커뮤니티  블로그/SNS  포털블로그  \n",
      "99999         5      429   국세청 홈택스    정치/행정    공공서비스  행정/민원  \n",
      "\n",
      "[100000 rows x 13 columns]>\n"
     ]
    }
   ],
   "source": [
    "print(result_df.isna)"
   ]
  },
  {
   "cell_type": "code",
   "execution_count": 50,
   "metadata": {
    "colab": {
     "base_uri": "https://localhost:8080/"
    },
    "executionInfo": {
     "elapsed": 3421,
     "status": "ok",
     "timestamp": 1645084550454,
     "user": {
      "displayName": "김민주",
      "photoUrl": "https://lh3.googleusercontent.com/a/default-user=s64",
      "userId": "11516921233831833366"
     },
     "user_tz": -540
    },
    "id": "CjCgiynwgPe0",
    "outputId": "8b900bf6-5dc8-4de1-9277-f5c3d04d8b3d"
   },
   "outputs": [
    {
     "data": {
      "text/plain": [
       "0         뉴스/미디어\n",
       "1        인터넷/컴퓨터\n",
       "2        인터넷/컴퓨터\n",
       "3          온라인교육\n",
       "4        인터넷/컴퓨터\n",
       "          ...   \n",
       "99995         쇼핑\n",
       "99996       커뮤니티\n",
       "99997    인터넷/컴퓨터\n",
       "99998       커뮤니티\n",
       "99999      정치/행정\n",
       "Name: BACT_NM, Length: 100000, dtype: object"
      ]
     },
     "execution_count": 50,
     "metadata": {},
     "output_type": "execute_result"
    }
   ],
   "source": [
    "#특성 추출: 원시 데이터에서 핵심 특성을 추출하는 과정. 가공한 토큰들을 컴퓨터가 이해할 수 있는 벡터 데이터로 바꾸는 과정\n",
    "\"\"\"\n",
    "  Bag of Words\n",
    "    - 문서 내 모든 단어들(토큰)을 가방 하나에 모두 집어넣고 사용.\n",
    "    - 자주 언급된 단어일수록 가바에서 나올 확률이 높아진다. \n",
    "    - 중요한 것은 단어의 등장 빈도이며, 단어의 순서는 상관없음\n",
    "  okt.morphs()\n",
    "  -텍스트를 형태소 단위로 나눈다. 옵션으로는 norm과 stem이 있다.\n",
    "  -norm은 normalize의 약자로 문장을 정규화하는 역할\n",
    "  -stem은 각 단어에서 어간을 추출하는 기능\n",
    "\"\"\"\n",
    "\n",
    "# !pip install --target=$my_path konlpy\n",
    "from konlpy.tag import Okt\n",
    "from collections import Counter\n",
    "import pandas as pd\n",
    "\n",
    "result = result_df[\"BACT_NM\"]\n",
    "okt = Okt() #객체 생성\n",
    "#result = result.apply(okt.morphs)#형태소로 분리\n",
    "result\n"
   ]
  },
  {
   "cell_type": "code",
   "execution_count": 51,
   "metadata": {
    "colab": {
     "base_uri": "https://localhost:8080/"
    },
    "executionInfo": {
     "elapsed": 57601,
     "status": "ok",
     "timestamp": 1645084608047,
     "user": {
      "displayName": "김민주",
      "photoUrl": "https://lh3.googleusercontent.com/a/default-user=s64",
      "userId": "11516921233831833366"
     },
     "user_tz": -540
    },
    "id": "zpugEZ1i3LJn",
    "outputId": "fc63cc83-03f3-4707-d4b9-2b70b38d900e"
   },
   "outputs": [
    {
     "name": "stdout",
     "output_type": "stream",
     "text": [
      "['뉴스/미디어' '인터넷/컴퓨터' '인터넷/컴퓨터' ... '인터넷/컴퓨터' '커뮤니티' '정치/행정']\n"
     ]
    },
    {
     "data": {
      "text/plain": [
       "0         [뉴스, 미디어]\n",
       "1        [인터넷, 컴퓨터]\n",
       "2        [인터넷, 컴퓨터]\n",
       "3           [온라인교육]\n",
       "4        [인터넷, 컴퓨터]\n",
       "            ...    \n",
       "99995          [쇼핑]\n",
       "99996        [커뮤니티]\n",
       "99997    [인터넷, 컴퓨터]\n",
       "99998        [커뮤니티]\n",
       "99999      [정치, 행정]\n",
       "Name: BACT_NM, Length: 100000, dtype: object"
      ]
     },
     "execution_count": 51,
     "metadata": {},
     "output_type": "execute_result"
    }
   ],
   "source": [
    "re = result_df[\"BACT_NM\"]\n",
    "print(re.values) #명사로 분리할 땐 배열화 시켜줘야해서 values로 배열화\n",
    "re = re.apply(okt.nouns) #명사로 분리\n",
    "re"
   ]
  },
  {
   "cell_type": "code",
   "execution_count": 52,
   "metadata": {
    "executionInfo": {
     "elapsed": 1506,
     "status": "ok",
     "timestamp": 1645084609539,
     "user": {
      "displayName": "김민주",
      "photoUrl": "https://lh3.googleusercontent.com/a/default-user=s64",
      "userId": "11516921233831833366"
     },
     "user_tz": -540
    },
    "id": "afBq3umCcLEK"
   },
   "outputs": [],
   "source": [
    "#https://python-explorer.tistory.com/30\n",
    "counter= Counter()\n",
    "for i in range(100000):\n",
    "  counter += Counter(re[i])\n",
    "counter\n",
    "top5 = counter.most_common(5)"
   ]
  },
  {
   "cell_type": "code",
   "execution_count": 53,
   "metadata": {},
   "outputs": [
    {
     "name": "stdout",
     "output_type": "stream",
     "text": [
      "[('인터넷', 49690), ('컴퓨터', 49690), ('뉴스', 13367), ('미디어', 13367), ('쇼핑', 11938)]\n"
     ]
    }
   ],
   "source": [
    "print(top5)"
   ]
  },
  {
   "cell_type": "code",
   "execution_count": 54,
   "metadata": {},
   "outputs": [
    {
     "name": "stdout",
     "output_type": "stream",
     "text": [
      "Counter({'인터넷': 49690, '컴퓨터': 49690, '뉴스': 13367, '미디어': 13367, '쇼핑': 11938, '커뮤니티': 10514, '금융': 3707, '부동산': 3707, '엔터테인먼트': 2300, '게임': 1986, '정치': 1038, '행정': 1038, '비즈니스': 937, '경제': 937, '온라인교육': 846, '정보': 676, '통신': 676, '서비스': 541, '여행': 425, '생활': 409, '가정': 409, '취미': 409, '교육': 400, '학원': 400, '유통': 331, '판매': 331, '운송': 331, '제조': 267, '건강': 207, '의학': 207, '스포츠': 179, '레저': 179, '사회': 161, '문화': 161, '종교': 161, '문학': 44, '예술': 44, '학문': 37})\n"
     ]
    }
   ],
   "source": [
    "print(counter)"
   ]
  },
  {
   "cell_type": "code",
   "execution_count": 55,
   "metadata": {
    "colab": {
     "base_uri": "https://localhost:8080/",
     "height": 446
    },
    "executionInfo": {
     "elapsed": 12003,
     "status": "ok",
     "timestamp": 1645084621539,
     "user": {
      "displayName": "김민주",
      "photoUrl": "https://lh3.googleusercontent.com/a/default-user=s64",
      "userId": "11516921233831833366"
     },
     "user_tz": -540
    },
    "id": "oQjYbDypsrYM",
    "outputId": "b6dd822c-a0e9-4eed-8acf-700ff9ac97e0"
   },
   "outputs": [],
   "source": [
    "# !apt-get update -qq\n",
    "# !apt-get install fonts-nanum* -qq\n",
    "import matplotlib.font_manager as fm\n",
    "import matplotlib.pyplot as plt\n",
    "%config InlinBackend.figure_format = 'retina'\n",
    "\n",
    "sys_font = fm.findSystemFonts()\n",
    "[f for f in sys_font if 'Nanum' in f]\n",
    "\n",
    "path = 'C:/Windows/Fonts/malgun.ttf'\n",
    "font_name = fm.FontProperties(fname=path, size=10).get_name()\n",
    "# print(font_name)\n",
    "# plt.rc('font', family=font_name)\n",
    "# fm._rebuild() #여기까지는 한국어 나올 수 있게 설정해주는 명령어\n",
    "# plt.title(\"안뇽\")"
   ]
  },
  {
   "cell_type": "code",
   "execution_count": 56,
   "metadata": {},
   "outputs": [],
   "source": [
    "import wordcloud"
   ]
  },
  {
   "cell_type": "code",
   "execution_count": 57,
   "metadata": {
    "colab": {
     "base_uri": "https://localhost:8080/",
     "height": 198
    },
    "executionInfo": {
     "elapsed": 1584,
     "status": "ok",
     "timestamp": 1645084623111,
     "user": {
      "displayName": "김민주",
      "photoUrl": "https://lh3.googleusercontent.com/a/default-user=s64",
      "userId": "11516921233831833366"
     },
     "user_tz": -540
    },
    "id": "mR99sVyyuviE",
    "outputId": "de4078d4-2b6d-424b-ea4c-a24aa613006b",
    "scrolled": true
   },
   "outputs": [
    {
     "data": {
      "image/png": "[encoded data removed]",
      "text/plain": [
       "<Figure size 432x288 with 1 Axes>"
      ]
     },
     "metadata": {
      "needs_background": "light"
     },
     "output_type": "display_data"
    }
   ],
   "source": [
    "#https://pinkwink.kr/1324\n",
    "\n",
    "import nltk\n",
    "from wordcloud import WordCloud\n",
    "from  konlpy.corpus import kobill\n",
    "top5\n",
    "path = 'C:/Windows/Fonts/malgun.ttf'\n",
    "wc = WordCloud(font_path = path, relative_scaling=0.2,\n",
    "                 background_color=\"white\").generate_from_frequencies(dict(top5))\n",
    "plt.figure()\n",
    "plt.imshow(wc)\n",
    "plt.axis('off')\n",
    "plt.show()"
   ]
  },
  {
   "cell_type": "code",
   "execution_count": 58,
   "metadata": {
    "executionInfo": {
     "elapsed": 20,
     "status": "ok",
     "timestamp": 1645084623112,
     "user": {
      "displayName": "김민주",
      "photoUrl": "https://lh3.googleusercontent.com/a/default-user=s64",
      "userId": "11516921233831833366"
     },
     "user_tz": -540
    },
    "id": "sGf7RMxU5fJ9"
   },
   "outputs": [],
   "source": [
    "test = result_df.loc[(result_df[\"GENDER\"]==\"남자\")&(result_df[\"RESIDENCE\"]==\"경상\")&(result_df[\"AGE\"]==20)]  "
   ]
  },
  {
   "cell_type": "code",
   "execution_count": 59,
   "metadata": {
    "colab": {
     "base_uri": "https://localhost:8080/",
     "height": 424
    },
    "executionInfo": {
     "elapsed": 22,
     "status": "ok",
     "timestamp": 1645084623114,
     "user": {
      "displayName": "김민주",
      "photoUrl": "https://lh3.googleusercontent.com/a/default-user=s64",
      "userId": "11516921233831833366"
     },
     "user_tz": -540
    },
    "id": "pJBT-mvU5ydN",
    "outputId": "9e8837e6-d442-4913-dc11-d8df22a3ce05"
   },
   "outputs": [
    {
     "data": {
      "text/html": [
       "<div>\n",
       "<style scoped>\n",
       "    .dataframe tbody tr th:only-of-type {\n",
       "        vertical-align: middle;\n",
       "    }\n",
       "\n",
       "    .dataframe tbody tr th {\n",
       "        vertical-align: top;\n",
       "    }\n",
       "\n",
       "    .dataframe thead th {\n",
       "        text-align: right;\n",
       "    }\n",
       "</style>\n",
       "<table border=\"1\" class=\"dataframe\">\n",
       "  <thead>\n",
       "    <tr style=\"text-align: right;\">\n",
       "      <th></th>\n",
       "      <th>CUS_ID</th>\n",
       "      <th>GENDER</th>\n",
       "      <th>AGE</th>\n",
       "      <th>RESIDENCE</th>\n",
       "      <th>GROUP</th>\n",
       "      <th>TIME_ID</th>\n",
       "      <th>SITE</th>\n",
       "      <th>SITE_CNT</th>\n",
       "      <th>ST_TIME</th>\n",
       "      <th>SITE_NM</th>\n",
       "      <th>BACT_NM</th>\n",
       "      <th>MACT_NM</th>\n",
       "      <th>ACT_NM</th>\n",
       "    </tr>\n",
       "  </thead>\n",
       "  <tbody>\n",
       "    <tr>\n",
       "      <th>6650</th>\n",
       "      <td>1118</td>\n",
       "      <td>남자</td>\n",
       "      <td>20</td>\n",
       "      <td>경상</td>\n",
       "      <td>M20-</td>\n",
       "      <td>2013021202</td>\n",
       "      <td>www.koreatimes.co.kr</td>\n",
       "      <td>1</td>\n",
       "      <td>2</td>\n",
       "      <td>The Korea Times</td>\n",
       "      <td>뉴스/미디어</td>\n",
       "      <td>전문뉴스</td>\n",
       "      <td>외국신문/잡지</td>\n",
       "    </tr>\n",
       "    <tr>\n",
       "      <th>6651</th>\n",
       "      <td>1118</td>\n",
       "      <td>남자</td>\n",
       "      <td>20</td>\n",
       "      <td>경상</td>\n",
       "      <td>M20-</td>\n",
       "      <td>2013030615</td>\n",
       "      <td>www.naver.com</td>\n",
       "      <td>1</td>\n",
       "      <td>1</td>\n",
       "      <td>네이버</td>\n",
       "      <td>인터넷/컴퓨터</td>\n",
       "      <td>포털</td>\n",
       "      <td>종합포털</td>\n",
       "    </tr>\n",
       "    <tr>\n",
       "      <th>6652</th>\n",
       "      <td>1118</td>\n",
       "      <td>남자</td>\n",
       "      <td>20</td>\n",
       "      <td>경상</td>\n",
       "      <td>M20-</td>\n",
       "      <td>2013020412</td>\n",
       "      <td>cafe.naver.com</td>\n",
       "      <td>1</td>\n",
       "      <td>3</td>\n",
       "      <td>네이버 카페</td>\n",
       "      <td>커뮤니티</td>\n",
       "      <td>커뮤니티포털</td>\n",
       "      <td>포털커뮤니티</td>\n",
       "    </tr>\n",
       "    <tr>\n",
       "      <th>6653</th>\n",
       "      <td>1118</td>\n",
       "      <td>남자</td>\n",
       "      <td>20</td>\n",
       "      <td>경상</td>\n",
       "      <td>M20-</td>\n",
       "      <td>2013010520</td>\n",
       "      <td>kart.nexon.com</td>\n",
       "      <td>3</td>\n",
       "      <td>0</td>\n",
       "      <td>크레이지레이싱 카트라이더</td>\n",
       "      <td>게임</td>\n",
       "      <td>온라인게임</td>\n",
       "      <td>스포츠/레이싱</td>\n",
       "    </tr>\n",
       "    <tr>\n",
       "      <th>6654</th>\n",
       "      <td>1118</td>\n",
       "      <td>남자</td>\n",
       "      <td>20</td>\n",
       "      <td>경상</td>\n",
       "      <td>M20-</td>\n",
       "      <td>2013022210</td>\n",
       "      <td>wf.nexon.com</td>\n",
       "      <td>1</td>\n",
       "      <td>4</td>\n",
       "      <td>넥슨 워페이스</td>\n",
       "      <td>게임</td>\n",
       "      <td>온라인게임</td>\n",
       "      <td>액션/슈팅</td>\n",
       "    </tr>\n",
       "    <tr>\n",
       "      <th>...</th>\n",
       "      <td>...</td>\n",
       "      <td>...</td>\n",
       "      <td>...</td>\n",
       "      <td>...</td>\n",
       "      <td>...</td>\n",
       "      <td>...</td>\n",
       "      <td>...</td>\n",
       "      <td>...</td>\n",
       "      <td>...</td>\n",
       "      <td>...</td>\n",
       "      <td>...</td>\n",
       "      <td>...</td>\n",
       "      <td>...</td>\n",
       "    </tr>\n",
       "    <tr>\n",
       "      <th>85995</th>\n",
       "      <td>296</td>\n",
       "      <td>남자</td>\n",
       "      <td>20</td>\n",
       "      <td>경상</td>\n",
       "      <td>M20-</td>\n",
       "      <td>2012072010</td>\n",
       "      <td>www.down-load.co.kr</td>\n",
       "      <td>3</td>\n",
       "      <td>191</td>\n",
       "      <td>다운로드</td>\n",
       "      <td>인터넷/컴퓨터</td>\n",
       "      <td>다운로드</td>\n",
       "      <td>자료실</td>\n",
       "    </tr>\n",
       "    <tr>\n",
       "      <th>85996</th>\n",
       "      <td>296</td>\n",
       "      <td>남자</td>\n",
       "      <td>20</td>\n",
       "      <td>경상</td>\n",
       "      <td>M20-</td>\n",
       "      <td>2012110421</td>\n",
       "      <td>www.daum.net</td>\n",
       "      <td>3</td>\n",
       "      <td>45</td>\n",
       "      <td>다음</td>\n",
       "      <td>인터넷/컴퓨터</td>\n",
       "      <td>포털</td>\n",
       "      <td>종합포털</td>\n",
       "    </tr>\n",
       "    <tr>\n",
       "      <th>85997</th>\n",
       "      <td>296</td>\n",
       "      <td>남자</td>\n",
       "      <td>20</td>\n",
       "      <td>경상</td>\n",
       "      <td>M20-</td>\n",
       "      <td>2012110816</td>\n",
       "      <td>www.daum.net</td>\n",
       "      <td>1</td>\n",
       "      <td>12</td>\n",
       "      <td>다음</td>\n",
       "      <td>인터넷/컴퓨터</td>\n",
       "      <td>포털</td>\n",
       "      <td>종합포털</td>\n",
       "    </tr>\n",
       "    <tr>\n",
       "      <th>85998</th>\n",
       "      <td>296</td>\n",
       "      <td>남자</td>\n",
       "      <td>20</td>\n",
       "      <td>경상</td>\n",
       "      <td>M20-</td>\n",
       "      <td>2013010102</td>\n",
       "      <td>www.artsnews.co.kr</td>\n",
       "      <td>1</td>\n",
       "      <td>0</td>\n",
       "      <td>아츠뉴스</td>\n",
       "      <td>뉴스/미디어</td>\n",
       "      <td>전문뉴스</td>\n",
       "      <td>연예/오락전문지</td>\n",
       "    </tr>\n",
       "    <tr>\n",
       "      <th>85999</th>\n",
       "      <td>296</td>\n",
       "      <td>남자</td>\n",
       "      <td>20</td>\n",
       "      <td>경상</td>\n",
       "      <td>M20-</td>\n",
       "      <td>2012073000</td>\n",
       "      <td>www.odisk.co.kr</td>\n",
       "      <td>1</td>\n",
       "      <td>0</td>\n",
       "      <td>오디스크</td>\n",
       "      <td>인터넷/컴퓨터</td>\n",
       "      <td>다운로드</td>\n",
       "      <td>컨텐츠공유(P2P)</td>\n",
       "    </tr>\n",
       "  </tbody>\n",
       "</table>\n",
       "<p>450 rows × 13 columns</p>\n",
       "</div>"
      ],
      "text/plain": [
       "       CUS_ID GENDER  AGE RESIDENCE GROUP     TIME_ID                  SITE  \\\n",
       "6650     1118     남자   20        경상  M20-  2013021202  www.koreatimes.co.kr   \n",
       "6651     1118     남자   20        경상  M20-  2013030615         www.naver.com   \n",
       "6652     1118     남자   20        경상  M20-  2013020412        cafe.naver.com   \n",
       "6653     1118     남자   20        경상  M20-  2013010520        kart.nexon.com   \n",
       "6654     1118     남자   20        경상  M20-  2013022210          wf.nexon.com   \n",
       "...       ...    ...  ...       ...   ...         ...                   ...   \n",
       "85995     296     남자   20        경상  M20-  2012072010   www.down-load.co.kr   \n",
       "85996     296     남자   20        경상  M20-  2012110421          www.daum.net   \n",
       "85997     296     남자   20        경상  M20-  2012110816          www.daum.net   \n",
       "85998     296     남자   20        경상  M20-  2013010102    www.artsnews.co.kr   \n",
       "85999     296     남자   20        경상  M20-  2012073000       www.odisk.co.kr   \n",
       "\n",
       "       SITE_CNT  ST_TIME          SITE_NM  BACT_NM MACT_NM      ACT_NM  \n",
       "6650          1        2  The Korea Times   뉴스/미디어    전문뉴스     외국신문/잡지  \n",
       "6651          1        1              네이버  인터넷/컴퓨터      포털        종합포털  \n",
       "6652          1        3           네이버 카페     커뮤니티  커뮤니티포털      포털커뮤니티  \n",
       "6653          3        0    크레이지레이싱 카트라이더       게임   온라인게임     스포츠/레이싱  \n",
       "6654          1        4          넥슨 워페이스       게임   온라인게임       액션/슈팅  \n",
       "...         ...      ...              ...      ...     ...         ...  \n",
       "85995         3      191             다운로드  인터넷/컴퓨터    다운로드         자료실  \n",
       "85996         3       45               다음  인터넷/컴퓨터      포털        종합포털  \n",
       "85997         1       12               다음  인터넷/컴퓨터      포털        종합포털  \n",
       "85998         1        0             아츠뉴스   뉴스/미디어    전문뉴스    연예/오락전문지  \n",
       "85999         1        0             오디스크  인터넷/컴퓨터    다운로드  컨텐츠공유(P2P)  \n",
       "\n",
       "[450 rows x 13 columns]"
      ]
     },
     "execution_count": 59,
     "metadata": {},
     "output_type": "execute_result"
    }
   ],
   "source": [
    "test"
   ]
  },
  {
   "cell_type": "code",
   "execution_count": 60,
   "metadata": {
    "colab": {
     "base_uri": "https://localhost:8080/"
    },
    "executionInfo": {
     "elapsed": 21,
     "status": "ok",
     "timestamp": 1645084623115,
     "user": {
      "displayName": "김민주",
      "photoUrl": "https://lh3.googleusercontent.com/a/default-user=s64",
      "userId": "11516921233831833366"
     },
     "user_tz": -540
    },
    "id": "XkjCCR3U5fYm",
    "outputId": "0ffb035a-80ee-4b44-ef24-cefee2b2659a"
   },
   "outputs": [
    {
     "data": {
      "text/plain": [
       "인터넷/컴퓨터     0.515556\n",
       "뉴스/미디어      0.133333\n",
       "커뮤니티        0.131111\n",
       "쇼핑          0.093333\n",
       "게임          0.046667\n",
       "엔터테인먼트      0.033333\n",
       "금융/부동산      0.011111\n",
       "정보통신/IT     0.008889\n",
       "비즈니스/경제     0.006667\n",
       "서비스         0.006667\n",
       "스포츠/레저      0.004444\n",
       "생활/가정/취미    0.004444\n",
       "여행          0.002222\n",
       "교육/학원       0.002222\n",
       "Name: BACT_NM, dtype: float64"
      ]
     },
     "execution_count": 60,
     "metadata": {},
     "output_type": "execute_result"
    }
   ],
   "source": [
    "test['BACT_NM'].value_counts(normalize=True)"
   ]
  },
  {
   "cell_type": "code",
   "execution_count": 61,
   "metadata": {
    "executionInfo": {
     "elapsed": 11,
     "status": "ok",
     "timestamp": 1645084623115,
     "user": {
      "displayName": "김민주",
      "photoUrl": "https://lh3.googleusercontent.com/a/default-user=s64",
      "userId": "11516921233831833366"
     },
     "user_tz": -540
    },
    "id": "grnkn7Jf5rv5"
   },
   "outputs": [],
   "source": [
    "test1 = test.loc[(test[\"BACT_NM\"]==\"인터넷/컴퓨터\")|(test[\"BACT_NM\"]==\"뉴스/미디어\")|(test[\"BACT_NM\"]=='커뮤니티')|(test[\"BACT_NM\"]=='쇼핑')|(test[\"BACT_NM\"]=='게임')]"
   ]
  },
  {
   "cell_type": "code",
   "execution_count": 62,
   "metadata": {
    "colab": {
     "base_uri": "https://localhost:8080/",
     "height": 424
    },
    "executionInfo": {
     "elapsed": 1336,
     "status": "ok",
     "timestamp": 1645084624440,
     "user": {
      "displayName": "김민주",
      "photoUrl": "https://lh3.googleusercontent.com/a/default-user=s64",
      "userId": "11516921233831833366"
     },
     "user_tz": -540
    },
    "id": "51Etz-505ryz",
    "outputId": "1524a4e5-2b56-414b-e554-cb3a87fb2994"
   },
   "outputs": [
    {
     "data": {
      "text/html": [
       "<div>\n",
       "<style scoped>\n",
       "    .dataframe tbody tr th:only-of-type {\n",
       "        vertical-align: middle;\n",
       "    }\n",
       "\n",
       "    .dataframe tbody tr th {\n",
       "        vertical-align: top;\n",
       "    }\n",
       "\n",
       "    .dataframe thead th {\n",
       "        text-align: right;\n",
       "    }\n",
       "</style>\n",
       "<table border=\"1\" class=\"dataframe\">\n",
       "  <thead>\n",
       "    <tr style=\"text-align: right;\">\n",
       "      <th></th>\n",
       "      <th>CUS_ID</th>\n",
       "      <th>GENDER</th>\n",
       "      <th>AGE</th>\n",
       "      <th>RESIDENCE</th>\n",
       "      <th>GROUP</th>\n",
       "      <th>TIME_ID</th>\n",
       "      <th>SITE</th>\n",
       "      <th>SITE_CNT</th>\n",
       "      <th>ST_TIME</th>\n",
       "      <th>SITE_NM</th>\n",
       "      <th>BACT_NM</th>\n",
       "      <th>MACT_NM</th>\n",
       "      <th>ACT_NM</th>\n",
       "    </tr>\n",
       "  </thead>\n",
       "  <tbody>\n",
       "    <tr>\n",
       "      <th>6650</th>\n",
       "      <td>1118</td>\n",
       "      <td>남자</td>\n",
       "      <td>20</td>\n",
       "      <td>경상</td>\n",
       "      <td>M20-</td>\n",
       "      <td>2013021202</td>\n",
       "      <td>www.koreatimes.co.kr</td>\n",
       "      <td>1</td>\n",
       "      <td>2</td>\n",
       "      <td>The Korea Times</td>\n",
       "      <td>뉴스/미디어</td>\n",
       "      <td>전문뉴스</td>\n",
       "      <td>외국신문/잡지</td>\n",
       "    </tr>\n",
       "    <tr>\n",
       "      <th>6651</th>\n",
       "      <td>1118</td>\n",
       "      <td>남자</td>\n",
       "      <td>20</td>\n",
       "      <td>경상</td>\n",
       "      <td>M20-</td>\n",
       "      <td>2013030615</td>\n",
       "      <td>www.naver.com</td>\n",
       "      <td>1</td>\n",
       "      <td>1</td>\n",
       "      <td>네이버</td>\n",
       "      <td>인터넷/컴퓨터</td>\n",
       "      <td>포털</td>\n",
       "      <td>종합포털</td>\n",
       "    </tr>\n",
       "    <tr>\n",
       "      <th>6652</th>\n",
       "      <td>1118</td>\n",
       "      <td>남자</td>\n",
       "      <td>20</td>\n",
       "      <td>경상</td>\n",
       "      <td>M20-</td>\n",
       "      <td>2013020412</td>\n",
       "      <td>cafe.naver.com</td>\n",
       "      <td>1</td>\n",
       "      <td>3</td>\n",
       "      <td>네이버 카페</td>\n",
       "      <td>커뮤니티</td>\n",
       "      <td>커뮤니티포털</td>\n",
       "      <td>포털커뮤니티</td>\n",
       "    </tr>\n",
       "    <tr>\n",
       "      <th>6653</th>\n",
       "      <td>1118</td>\n",
       "      <td>남자</td>\n",
       "      <td>20</td>\n",
       "      <td>경상</td>\n",
       "      <td>M20-</td>\n",
       "      <td>2013010520</td>\n",
       "      <td>kart.nexon.com</td>\n",
       "      <td>3</td>\n",
       "      <td>0</td>\n",
       "      <td>크레이지레이싱 카트라이더</td>\n",
       "      <td>게임</td>\n",
       "      <td>온라인게임</td>\n",
       "      <td>스포츠/레이싱</td>\n",
       "    </tr>\n",
       "    <tr>\n",
       "      <th>6654</th>\n",
       "      <td>1118</td>\n",
       "      <td>남자</td>\n",
       "      <td>20</td>\n",
       "      <td>경상</td>\n",
       "      <td>M20-</td>\n",
       "      <td>2013022210</td>\n",
       "      <td>wf.nexon.com</td>\n",
       "      <td>1</td>\n",
       "      <td>4</td>\n",
       "      <td>넥슨 워페이스</td>\n",
       "      <td>게임</td>\n",
       "      <td>온라인게임</td>\n",
       "      <td>액션/슈팅</td>\n",
       "    </tr>\n",
       "    <tr>\n",
       "      <th>...</th>\n",
       "      <td>...</td>\n",
       "      <td>...</td>\n",
       "      <td>...</td>\n",
       "      <td>...</td>\n",
       "      <td>...</td>\n",
       "      <td>...</td>\n",
       "      <td>...</td>\n",
       "      <td>...</td>\n",
       "      <td>...</td>\n",
       "      <td>...</td>\n",
       "      <td>...</td>\n",
       "      <td>...</td>\n",
       "      <td>...</td>\n",
       "    </tr>\n",
       "    <tr>\n",
       "      <th>85995</th>\n",
       "      <td>296</td>\n",
       "      <td>남자</td>\n",
       "      <td>20</td>\n",
       "      <td>경상</td>\n",
       "      <td>M20-</td>\n",
       "      <td>2012072010</td>\n",
       "      <td>www.down-load.co.kr</td>\n",
       "      <td>3</td>\n",
       "      <td>191</td>\n",
       "      <td>다운로드</td>\n",
       "      <td>인터넷/컴퓨터</td>\n",
       "      <td>다운로드</td>\n",
       "      <td>자료실</td>\n",
       "    </tr>\n",
       "    <tr>\n",
       "      <th>85996</th>\n",
       "      <td>296</td>\n",
       "      <td>남자</td>\n",
       "      <td>20</td>\n",
       "      <td>경상</td>\n",
       "      <td>M20-</td>\n",
       "      <td>2012110421</td>\n",
       "      <td>www.daum.net</td>\n",
       "      <td>3</td>\n",
       "      <td>45</td>\n",
       "      <td>다음</td>\n",
       "      <td>인터넷/컴퓨터</td>\n",
       "      <td>포털</td>\n",
       "      <td>종합포털</td>\n",
       "    </tr>\n",
       "    <tr>\n",
       "      <th>85997</th>\n",
       "      <td>296</td>\n",
       "      <td>남자</td>\n",
       "      <td>20</td>\n",
       "      <td>경상</td>\n",
       "      <td>M20-</td>\n",
       "      <td>2012110816</td>\n",
       "      <td>www.daum.net</td>\n",
       "      <td>1</td>\n",
       "      <td>12</td>\n",
       "      <td>다음</td>\n",
       "      <td>인터넷/컴퓨터</td>\n",
       "      <td>포털</td>\n",
       "      <td>종합포털</td>\n",
       "    </tr>\n",
       "    <tr>\n",
       "      <th>85998</th>\n",
       "      <td>296</td>\n",
       "      <td>남자</td>\n",
       "      <td>20</td>\n",
       "      <td>경상</td>\n",
       "      <td>M20-</td>\n",
       "      <td>2013010102</td>\n",
       "      <td>www.artsnews.co.kr</td>\n",
       "      <td>1</td>\n",
       "      <td>0</td>\n",
       "      <td>아츠뉴스</td>\n",
       "      <td>뉴스/미디어</td>\n",
       "      <td>전문뉴스</td>\n",
       "      <td>연예/오락전문지</td>\n",
       "    </tr>\n",
       "    <tr>\n",
       "      <th>85999</th>\n",
       "      <td>296</td>\n",
       "      <td>남자</td>\n",
       "      <td>20</td>\n",
       "      <td>경상</td>\n",
       "      <td>M20-</td>\n",
       "      <td>2012073000</td>\n",
       "      <td>www.odisk.co.kr</td>\n",
       "      <td>1</td>\n",
       "      <td>0</td>\n",
       "      <td>오디스크</td>\n",
       "      <td>인터넷/컴퓨터</td>\n",
       "      <td>다운로드</td>\n",
       "      <td>컨텐츠공유(P2P)</td>\n",
       "    </tr>\n",
       "  </tbody>\n",
       "</table>\n",
       "<p>414 rows × 13 columns</p>\n",
       "</div>"
      ],
      "text/plain": [
       "       CUS_ID GENDER  AGE RESIDENCE GROUP     TIME_ID                  SITE  \\\n",
       "6650     1118     남자   20        경상  M20-  2013021202  www.koreatimes.co.kr   \n",
       "6651     1118     남자   20        경상  M20-  2013030615         www.naver.com   \n",
       "6652     1118     남자   20        경상  M20-  2013020412        cafe.naver.com   \n",
       "6653     1118     남자   20        경상  M20-  2013010520        kart.nexon.com   \n",
       "6654     1118     남자   20        경상  M20-  2013022210          wf.nexon.com   \n",
       "...       ...    ...  ...       ...   ...         ...                   ...   \n",
       "85995     296     남자   20        경상  M20-  2012072010   www.down-load.co.kr   \n",
       "85996     296     남자   20        경상  M20-  2012110421          www.daum.net   \n",
       "85997     296     남자   20        경상  M20-  2012110816          www.daum.net   \n",
       "85998     296     남자   20        경상  M20-  2013010102    www.artsnews.co.kr   \n",
       "85999     296     남자   20        경상  M20-  2012073000       www.odisk.co.kr   \n",
       "\n",
       "       SITE_CNT  ST_TIME          SITE_NM  BACT_NM MACT_NM      ACT_NM  \n",
       "6650          1        2  The Korea Times   뉴스/미디어    전문뉴스     외국신문/잡지  \n",
       "6651          1        1              네이버  인터넷/컴퓨터      포털        종합포털  \n",
       "6652          1        3           네이버 카페     커뮤니티  커뮤니티포털      포털커뮤니티  \n",
       "6653          3        0    크레이지레이싱 카트라이더       게임   온라인게임     스포츠/레이싱  \n",
       "6654          1        4          넥슨 워페이스       게임   온라인게임       액션/슈팅  \n",
       "...         ...      ...              ...      ...     ...         ...  \n",
       "85995         3      191             다운로드  인터넷/컴퓨터    다운로드         자료실  \n",
       "85996         3       45               다음  인터넷/컴퓨터      포털        종합포털  \n",
       "85997         1       12               다음  인터넷/컴퓨터      포털        종합포털  \n",
       "85998         1        0             아츠뉴스   뉴스/미디어    전문뉴스    연예/오락전문지  \n",
       "85999         1        0             오디스크  인터넷/컴퓨터    다운로드  컨텐츠공유(P2P)  \n",
       "\n",
       "[414 rows x 13 columns]"
      ]
     },
     "execution_count": 62,
     "metadata": {},
     "output_type": "execute_result"
    }
   ],
   "source": [
    "test1"
   ]
  },
  {
   "cell_type": "code",
   "execution_count": 63,
   "metadata": {
    "executionInfo": {
     "elapsed": 12,
     "status": "ok",
     "timestamp": 1645084624441,
     "user": {
      "displayName": "김민주",
      "photoUrl": "https://lh3.googleusercontent.com/a/default-user=s64",
      "userId": "11516921233831833366"
     },
     "user_tz": -540
    },
    "id": "DSMC2Kpc5vAf"
   },
   "outputs": [],
   "source": [
    "map_test = {\"인터넷/컴퓨터\":1,\"뉴스/미디어\":2,\"커뮤니티\":3,\"쇼핑\":4,\"게임\":5}"
   ]
  },
  {
   "cell_type": "code",
   "execution_count": 64,
   "metadata": {
    "colab": {
     "base_uri": "https://localhost:8080/"
    },
    "executionInfo": {
     "elapsed": 12,
     "status": "ok",
     "timestamp": 1645084624441,
     "user": {
      "displayName": "김민주",
      "photoUrl": "https://lh3.googleusercontent.com/a/default-user=s64",
      "userId": "11516921233831833366"
     },
     "user_tz": -540
    },
    "id": "NA39vplw5r1j",
    "outputId": "75e5056f-07f9-4998-fabc-bebfeb3e75a5"
   },
   "outputs": [
    {
     "name": "stderr",
     "output_type": "stream",
     "text": [
      "C:\\Users\\user\\AppData\\Local\\Temp/ipykernel_13260/1296347501.py:1: SettingWithCopyWarning: \n",
      "A value is trying to be set on a copy of a slice from a DataFrame.\n",
      "Try using .loc[row_indexer,col_indexer] = value instead\n",
      "\n",
      "See the caveats in the documentation: https://pandas.pydata.org/pandas-docs/stable/user_guide/indexing.html#returning-a-view-versus-a-copy\n",
      "  test1[\"TEST_NM\"]=test1[\"BACT_NM\"].map(map_test)\n"
     ]
    }
   ],
   "source": [
    "test1[\"TEST_NM\"]=test1[\"BACT_NM\"].map(map_test)"
   ]
  },
  {
   "cell_type": "code",
   "execution_count": 65,
   "metadata": {
    "colab": {
     "base_uri": "https://localhost:8080/",
     "height": 424
    },
    "executionInfo": {
     "elapsed": 9,
     "status": "ok",
     "timestamp": 1645084624441,
     "user": {
      "displayName": "김민주",
      "photoUrl": "https://lh3.googleusercontent.com/a/default-user=s64",
      "userId": "11516921233831833366"
     },
     "user_tz": -540
    },
    "id": "QNGWaGzC64kN",
    "outputId": "ec6655c1-0509-40a9-9b8c-1f917c43a7bb"
   },
   "outputs": [
    {
     "data": {
      "text/html": [
       "<div>\n",
       "<style scoped>\n",
       "    .dataframe tbody tr th:only-of-type {\n",
       "        vertical-align: middle;\n",
       "    }\n",
       "\n",
       "    .dataframe tbody tr th {\n",
       "        vertical-align: top;\n",
       "    }\n",
       "\n",
       "    .dataframe thead th {\n",
       "        text-align: right;\n",
       "    }\n",
       "</style>\n",
       "<table border=\"1\" class=\"dataframe\">\n",
       "  <thead>\n",
       "    <tr style=\"text-align: right;\">\n",
       "      <th></th>\n",
       "      <th>CUS_ID</th>\n",
       "      <th>GENDER</th>\n",
       "      <th>AGE</th>\n",
       "      <th>RESIDENCE</th>\n",
       "      <th>GROUP</th>\n",
       "      <th>TIME_ID</th>\n",
       "      <th>SITE</th>\n",
       "      <th>SITE_CNT</th>\n",
       "      <th>ST_TIME</th>\n",
       "      <th>SITE_NM</th>\n",
       "      <th>BACT_NM</th>\n",
       "      <th>MACT_NM</th>\n",
       "      <th>ACT_NM</th>\n",
       "      <th>TEST_NM</th>\n",
       "    </tr>\n",
       "  </thead>\n",
       "  <tbody>\n",
       "    <tr>\n",
       "      <th>6650</th>\n",
       "      <td>1118</td>\n",
       "      <td>남자</td>\n",
       "      <td>20</td>\n",
       "      <td>경상</td>\n",
       "      <td>M20-</td>\n",
       "      <td>2013021202</td>\n",
       "      <td>www.koreatimes.co.kr</td>\n",
       "      <td>1</td>\n",
       "      <td>2</td>\n",
       "      <td>The Korea Times</td>\n",
       "      <td>뉴스/미디어</td>\n",
       "      <td>전문뉴스</td>\n",
       "      <td>외국신문/잡지</td>\n",
       "      <td>2</td>\n",
       "    </tr>\n",
       "    <tr>\n",
       "      <th>6651</th>\n",
       "      <td>1118</td>\n",
       "      <td>남자</td>\n",
       "      <td>20</td>\n",
       "      <td>경상</td>\n",
       "      <td>M20-</td>\n",
       "      <td>2013030615</td>\n",
       "      <td>www.naver.com</td>\n",
       "      <td>1</td>\n",
       "      <td>1</td>\n",
       "      <td>네이버</td>\n",
       "      <td>인터넷/컴퓨터</td>\n",
       "      <td>포털</td>\n",
       "      <td>종합포털</td>\n",
       "      <td>1</td>\n",
       "    </tr>\n",
       "    <tr>\n",
       "      <th>6652</th>\n",
       "      <td>1118</td>\n",
       "      <td>남자</td>\n",
       "      <td>20</td>\n",
       "      <td>경상</td>\n",
       "      <td>M20-</td>\n",
       "      <td>2013020412</td>\n",
       "      <td>cafe.naver.com</td>\n",
       "      <td>1</td>\n",
       "      <td>3</td>\n",
       "      <td>네이버 카페</td>\n",
       "      <td>커뮤니티</td>\n",
       "      <td>커뮤니티포털</td>\n",
       "      <td>포털커뮤니티</td>\n",
       "      <td>3</td>\n",
       "    </tr>\n",
       "    <tr>\n",
       "      <th>6653</th>\n",
       "      <td>1118</td>\n",
       "      <td>남자</td>\n",
       "      <td>20</td>\n",
       "      <td>경상</td>\n",
       "      <td>M20-</td>\n",
       "      <td>2013010520</td>\n",
       "      <td>kart.nexon.com</td>\n",
       "      <td>3</td>\n",
       "      <td>0</td>\n",
       "      <td>크레이지레이싱 카트라이더</td>\n",
       "      <td>게임</td>\n",
       "      <td>온라인게임</td>\n",
       "      <td>스포츠/레이싱</td>\n",
       "      <td>5</td>\n",
       "    </tr>\n",
       "    <tr>\n",
       "      <th>6654</th>\n",
       "      <td>1118</td>\n",
       "      <td>남자</td>\n",
       "      <td>20</td>\n",
       "      <td>경상</td>\n",
       "      <td>M20-</td>\n",
       "      <td>2013022210</td>\n",
       "      <td>wf.nexon.com</td>\n",
       "      <td>1</td>\n",
       "      <td>4</td>\n",
       "      <td>넥슨 워페이스</td>\n",
       "      <td>게임</td>\n",
       "      <td>온라인게임</td>\n",
       "      <td>액션/슈팅</td>\n",
       "      <td>5</td>\n",
       "    </tr>\n",
       "    <tr>\n",
       "      <th>...</th>\n",
       "      <td>...</td>\n",
       "      <td>...</td>\n",
       "      <td>...</td>\n",
       "      <td>...</td>\n",
       "      <td>...</td>\n",
       "      <td>...</td>\n",
       "      <td>...</td>\n",
       "      <td>...</td>\n",
       "      <td>...</td>\n",
       "      <td>...</td>\n",
       "      <td>...</td>\n",
       "      <td>...</td>\n",
       "      <td>...</td>\n",
       "      <td>...</td>\n",
       "    </tr>\n",
       "    <tr>\n",
       "      <th>85995</th>\n",
       "      <td>296</td>\n",
       "      <td>남자</td>\n",
       "      <td>20</td>\n",
       "      <td>경상</td>\n",
       "      <td>M20-</td>\n",
       "      <td>2012072010</td>\n",
       "      <td>www.down-load.co.kr</td>\n",
       "      <td>3</td>\n",
       "      <td>191</td>\n",
       "      <td>다운로드</td>\n",
       "      <td>인터넷/컴퓨터</td>\n",
       "      <td>다운로드</td>\n",
       "      <td>자료실</td>\n",
       "      <td>1</td>\n",
       "    </tr>\n",
       "    <tr>\n",
       "      <th>85996</th>\n",
       "      <td>296</td>\n",
       "      <td>남자</td>\n",
       "      <td>20</td>\n",
       "      <td>경상</td>\n",
       "      <td>M20-</td>\n",
       "      <td>2012110421</td>\n",
       "      <td>www.daum.net</td>\n",
       "      <td>3</td>\n",
       "      <td>45</td>\n",
       "      <td>다음</td>\n",
       "      <td>인터넷/컴퓨터</td>\n",
       "      <td>포털</td>\n",
       "      <td>종합포털</td>\n",
       "      <td>1</td>\n",
       "    </tr>\n",
       "    <tr>\n",
       "      <th>85997</th>\n",
       "      <td>296</td>\n",
       "      <td>남자</td>\n",
       "      <td>20</td>\n",
       "      <td>경상</td>\n",
       "      <td>M20-</td>\n",
       "      <td>2012110816</td>\n",
       "      <td>www.daum.net</td>\n",
       "      <td>1</td>\n",
       "      <td>12</td>\n",
       "      <td>다음</td>\n",
       "      <td>인터넷/컴퓨터</td>\n",
       "      <td>포털</td>\n",
       "      <td>종합포털</td>\n",
       "      <td>1</td>\n",
       "    </tr>\n",
       "    <tr>\n",
       "      <th>85998</th>\n",
       "      <td>296</td>\n",
       "      <td>남자</td>\n",
       "      <td>20</td>\n",
       "      <td>경상</td>\n",
       "      <td>M20-</td>\n",
       "      <td>2013010102</td>\n",
       "      <td>www.artsnews.co.kr</td>\n",
       "      <td>1</td>\n",
       "      <td>0</td>\n",
       "      <td>아츠뉴스</td>\n",
       "      <td>뉴스/미디어</td>\n",
       "      <td>전문뉴스</td>\n",
       "      <td>연예/오락전문지</td>\n",
       "      <td>2</td>\n",
       "    </tr>\n",
       "    <tr>\n",
       "      <th>85999</th>\n",
       "      <td>296</td>\n",
       "      <td>남자</td>\n",
       "      <td>20</td>\n",
       "      <td>경상</td>\n",
       "      <td>M20-</td>\n",
       "      <td>2012073000</td>\n",
       "      <td>www.odisk.co.kr</td>\n",
       "      <td>1</td>\n",
       "      <td>0</td>\n",
       "      <td>오디스크</td>\n",
       "      <td>인터넷/컴퓨터</td>\n",
       "      <td>다운로드</td>\n",
       "      <td>컨텐츠공유(P2P)</td>\n",
       "      <td>1</td>\n",
       "    </tr>\n",
       "  </tbody>\n",
       "</table>\n",
       "<p>414 rows × 14 columns</p>\n",
       "</div>"
      ],
      "text/plain": [
       "       CUS_ID GENDER  AGE RESIDENCE GROUP     TIME_ID                  SITE  \\\n",
       "6650     1118     남자   20        경상  M20-  2013021202  www.koreatimes.co.kr   \n",
       "6651     1118     남자   20        경상  M20-  2013030615         www.naver.com   \n",
       "6652     1118     남자   20        경상  M20-  2013020412        cafe.naver.com   \n",
       "6653     1118     남자   20        경상  M20-  2013010520        kart.nexon.com   \n",
       "6654     1118     남자   20        경상  M20-  2013022210          wf.nexon.com   \n",
       "...       ...    ...  ...       ...   ...         ...                   ...   \n",
       "85995     296     남자   20        경상  M20-  2012072010   www.down-load.co.kr   \n",
       "85996     296     남자   20        경상  M20-  2012110421          www.daum.net   \n",
       "85997     296     남자   20        경상  M20-  2012110816          www.daum.net   \n",
       "85998     296     남자   20        경상  M20-  2013010102    www.artsnews.co.kr   \n",
       "85999     296     남자   20        경상  M20-  2012073000       www.odisk.co.kr   \n",
       "\n",
       "       SITE_CNT  ST_TIME          SITE_NM  BACT_NM MACT_NM      ACT_NM  \\\n",
       "6650          1        2  The Korea Times   뉴스/미디어    전문뉴스     외국신문/잡지   \n",
       "6651          1        1              네이버  인터넷/컴퓨터      포털        종합포털   \n",
       "6652          1        3           네이버 카페     커뮤니티  커뮤니티포털      포털커뮤니티   \n",
       "6653          3        0    크레이지레이싱 카트라이더       게임   온라인게임     스포츠/레이싱   \n",
       "6654          1        4          넥슨 워페이스       게임   온라인게임       액션/슈팅   \n",
       "...         ...      ...              ...      ...     ...         ...   \n",
       "85995         3      191             다운로드  인터넷/컴퓨터    다운로드         자료실   \n",
       "85996         3       45               다음  인터넷/컴퓨터      포털        종합포털   \n",
       "85997         1       12               다음  인터넷/컴퓨터      포털        종합포털   \n",
       "85998         1        0             아츠뉴스   뉴스/미디어    전문뉴스    연예/오락전문지   \n",
       "85999         1        0             오디스크  인터넷/컴퓨터    다운로드  컨텐츠공유(P2P)   \n",
       "\n",
       "       TEST_NM  \n",
       "6650         2  \n",
       "6651         1  \n",
       "6652         3  \n",
       "6653         5  \n",
       "6654         5  \n",
       "...        ...  \n",
       "85995        1  \n",
       "85996        1  \n",
       "85997        1  \n",
       "85998        2  \n",
       "85999        1  \n",
       "\n",
       "[414 rows x 14 columns]"
      ]
     },
     "execution_count": 65,
     "metadata": {},
     "output_type": "execute_result"
    }
   ],
   "source": [
    "test1"
   ]
  },
  {
   "cell_type": "code",
   "execution_count": 66,
   "metadata": {
    "executionInfo": {
     "elapsed": 9,
     "status": "ok",
     "timestamp": 1645084624442,
     "user": {
      "displayName": "김민주",
      "photoUrl": "https://lh3.googleusercontent.com/a/default-user=s64",
      "userId": "11516921233831833366"
     },
     "user_tz": -540
    },
    "id": "C9GSk7cb8pcP"
   },
   "outputs": [],
   "source": [
    "test2 = test1[[\"CUS_ID\",\"ST_TIME\",\"TEST_NM\"]]"
   ]
  },
  {
   "cell_type": "code",
   "execution_count": 67,
   "metadata": {
    "colab": {
     "base_uri": "https://localhost:8080/",
     "height": 424
    },
    "executionInfo": {
     "elapsed": 8,
     "status": "ok",
     "timestamp": 1645084624442,
     "user": {
      "displayName": "김민주",
      "photoUrl": "https://lh3.googleusercontent.com/a/default-user=s64",
      "userId": "11516921233831833366"
     },
     "user_tz": -540
    },
    "id": "WWE7C9R19WzJ",
    "outputId": "700a3f87-bda4-4fd8-8547-7136401305c5"
   },
   "outputs": [
    {
     "data": {
      "text/html": [
       "<div>\n",
       "<style scoped>\n",
       "    .dataframe tbody tr th:only-of-type {\n",
       "        vertical-align: middle;\n",
       "    }\n",
       "\n",
       "    .dataframe tbody tr th {\n",
       "        vertical-align: top;\n",
       "    }\n",
       "\n",
       "    .dataframe thead th {\n",
       "        text-align: right;\n",
       "    }\n",
       "</style>\n",
       "<table border=\"1\" class=\"dataframe\">\n",
       "  <thead>\n",
       "    <tr style=\"text-align: right;\">\n",
       "      <th></th>\n",
       "      <th>CUS_ID</th>\n",
       "      <th>ST_TIME</th>\n",
       "      <th>TEST_NM</th>\n",
       "    </tr>\n",
       "  </thead>\n",
       "  <tbody>\n",
       "    <tr>\n",
       "      <th>6650</th>\n",
       "      <td>1118</td>\n",
       "      <td>2</td>\n",
       "      <td>2</td>\n",
       "    </tr>\n",
       "    <tr>\n",
       "      <th>6651</th>\n",
       "      <td>1118</td>\n",
       "      <td>1</td>\n",
       "      <td>1</td>\n",
       "    </tr>\n",
       "    <tr>\n",
       "      <th>6652</th>\n",
       "      <td>1118</td>\n",
       "      <td>3</td>\n",
       "      <td>3</td>\n",
       "    </tr>\n",
       "    <tr>\n",
       "      <th>6653</th>\n",
       "      <td>1118</td>\n",
       "      <td>0</td>\n",
       "      <td>5</td>\n",
       "    </tr>\n",
       "    <tr>\n",
       "      <th>6654</th>\n",
       "      <td>1118</td>\n",
       "      <td>4</td>\n",
       "      <td>5</td>\n",
       "    </tr>\n",
       "    <tr>\n",
       "      <th>...</th>\n",
       "      <td>...</td>\n",
       "      <td>...</td>\n",
       "      <td>...</td>\n",
       "    </tr>\n",
       "    <tr>\n",
       "      <th>85995</th>\n",
       "      <td>296</td>\n",
       "      <td>191</td>\n",
       "      <td>1</td>\n",
       "    </tr>\n",
       "    <tr>\n",
       "      <th>85996</th>\n",
       "      <td>296</td>\n",
       "      <td>45</td>\n",
       "      <td>1</td>\n",
       "    </tr>\n",
       "    <tr>\n",
       "      <th>85997</th>\n",
       "      <td>296</td>\n",
       "      <td>12</td>\n",
       "      <td>1</td>\n",
       "    </tr>\n",
       "    <tr>\n",
       "      <th>85998</th>\n",
       "      <td>296</td>\n",
       "      <td>0</td>\n",
       "      <td>2</td>\n",
       "    </tr>\n",
       "    <tr>\n",
       "      <th>85999</th>\n",
       "      <td>296</td>\n",
       "      <td>0</td>\n",
       "      <td>1</td>\n",
       "    </tr>\n",
       "  </tbody>\n",
       "</table>\n",
       "<p>414 rows × 3 columns</p>\n",
       "</div>"
      ],
      "text/plain": [
       "       CUS_ID  ST_TIME  TEST_NM\n",
       "6650     1118        2        2\n",
       "6651     1118        1        1\n",
       "6652     1118        3        3\n",
       "6653     1118        0        5\n",
       "6654     1118        4        5\n",
       "...       ...      ...      ...\n",
       "85995     296      191        1\n",
       "85996     296       45        1\n",
       "85997     296       12        1\n",
       "85998     296        0        2\n",
       "85999     296        0        1\n",
       "\n",
       "[414 rows x 3 columns]"
      ]
     },
     "execution_count": 67,
     "metadata": {},
     "output_type": "execute_result"
    }
   ],
   "source": [
    "test2"
   ]
  },
  {
   "cell_type": "code",
   "execution_count": 68,
   "metadata": {
    "executionInfo": {
     "elapsed": 590,
     "status": "ok",
     "timestamp": 1645084625024,
     "user": {
      "displayName": "김민주",
      "photoUrl": "https://lh3.googleusercontent.com/a/default-user=s64",
      "userId": "11516921233831833366"
     },
     "user_tz": -540
    },
    "id": "VVmNBPe6xeb0"
   },
   "outputs": [],
   "source": [
    "import sklearn"
   ]
  },
  {
   "cell_type": "code",
   "execution_count": 69,
   "metadata": {
    "executionInfo": {
     "elapsed": 14,
     "status": "ok",
     "timestamp": 1645084625025,
     "user": {
      "displayName": "김민주",
      "photoUrl": "https://lh3.googleusercontent.com/a/default-user=s64",
      "userId": "11516921233831833366"
     },
     "user_tz": -540
    },
    "id": "FBdOqgfnI8Fq"
   },
   "outputs": [],
   "source": [
    "from sklearn.preprocessing import StandardScaler  #표준화"
   ]
  },
  {
   "cell_type": "code",
   "execution_count": 70,
   "metadata": {
    "executionInfo": {
     "elapsed": 15,
     "status": "ok",
     "timestamp": 1645084625026,
     "user": {
      "displayName": "김민주",
      "photoUrl": "https://lh3.googleusercontent.com/a/default-user=s64",
      "userId": "11516921233831833366"
     },
     "user_tz": -540
    },
    "id": "Ywd8B3QQxWpA"
   },
   "outputs": [],
   "source": [
    "x=test2.drop([\"CUS_ID\"],axis=1)   #독립변인의 value값만 추출함"
   ]
  },
  {
   "cell_type": "code",
   "execution_count": 71,
   "metadata": {
    "executionInfo": {
     "elapsed": 16,
     "status": "ok",
     "timestamp": 1645084625027,
     "user": {
      "displayName": "김민주",
      "photoUrl": "https://lh3.googleusercontent.com/a/default-user=s64",
      "userId": "11516921233831833366"
     },
     "user_tz": -540
    },
    "id": "CU8bD5MT7znF"
   },
   "outputs": [],
   "source": [
    "y=test2['CUS_ID'].values #  "
   ]
  },
  {
   "cell_type": "code",
   "execution_count": 72,
   "metadata": {
    "executionInfo": {
     "elapsed": 16,
     "status": "ok",
     "timestamp": 1645084625028,
     "user": {
      "displayName": "김민주",
      "photoUrl": "https://lh3.googleusercontent.com/a/default-user=s64",
      "userId": "11516921233831833366"
     },
     "user_tz": -540
    },
    "id": "4C0hSKfR7629"
   },
   "outputs": [],
   "source": [
    "x = StandardScaler().fit_transform(x) #x객체에 x를 표준화한 데이터를 저장\n",
    "features = [\"ST_TIME\",\"TEST_NM\"]"
   ]
  },
  {
   "cell_type": "code",
   "execution_count": 73,
   "metadata": {
    "executionInfo": {
     "elapsed": 16,
     "status": "ok",
     "timestamp": 1645084625028,
     "user": {
      "displayName": "김민주",
      "photoUrl": "https://lh3.googleusercontent.com/a/default-user=s64",
      "userId": "11516921233831833366"
     },
     "user_tz": -540
    },
    "id": "Krg0P7vUy39s"
   },
   "outputs": [],
   "source": [
    "from sklearn.decomposition import PCA"
   ]
  },
  {
   "cell_type": "code",
   "execution_count": 74,
   "metadata": {
    "colab": {
     "base_uri": "https://localhost:8080/",
     "height": 206
    },
    "executionInfo": {
     "elapsed": 17,
     "status": "ok",
     "timestamp": 1645084625029,
     "user": {
      "displayName": "김민주",
      "photoUrl": "https://lh3.googleusercontent.com/a/default-user=s64",
      "userId": "11516921233831833366"
     },
     "user_tz": -540
    },
    "id": "9PfACcvL9pr-",
    "outputId": "4a87898f-291f-4a83-9136-7d251e95da9b"
   },
   "outputs": [
    {
     "data": {
      "text/html": [
       "<div>\n",
       "<style scoped>\n",
       "    .dataframe tbody tr th:only-of-type {\n",
       "        vertical-align: middle;\n",
       "    }\n",
       "\n",
       "    .dataframe tbody tr th {\n",
       "        vertical-align: top;\n",
       "    }\n",
       "\n",
       "    .dataframe thead th {\n",
       "        text-align: right;\n",
       "    }\n",
       "</style>\n",
       "<table border=\"1\" class=\"dataframe\">\n",
       "  <thead>\n",
       "    <tr style=\"text-align: right;\">\n",
       "      <th></th>\n",
       "      <th>ST_TIME</th>\n",
       "      <th>TEST_NM</th>\n",
       "    </tr>\n",
       "  </thead>\n",
       "  <tbody>\n",
       "    <tr>\n",
       "      <th>0</th>\n",
       "      <td>-0.452010</td>\n",
       "      <td>0.050261</td>\n",
       "    </tr>\n",
       "    <tr>\n",
       "      <th>1</th>\n",
       "      <td>-0.455427</td>\n",
       "      <td>-0.750053</td>\n",
       "    </tr>\n",
       "    <tr>\n",
       "      <th>2</th>\n",
       "      <td>-0.448593</td>\n",
       "      <td>0.850575</td>\n",
       "    </tr>\n",
       "    <tr>\n",
       "      <th>3</th>\n",
       "      <td>-0.458843</td>\n",
       "      <td>2.451204</td>\n",
       "    </tr>\n",
       "    <tr>\n",
       "      <th>4</th>\n",
       "      <td>-0.445177</td>\n",
       "      <td>2.451204</td>\n",
       "    </tr>\n",
       "  </tbody>\n",
       "</table>\n",
       "</div>"
      ],
      "text/plain": [
       "    ST_TIME   TEST_NM\n",
       "0 -0.452010  0.050261\n",
       "1 -0.455427 -0.750053\n",
       "2 -0.448593  0.850575\n",
       "3 -0.458843  2.451204\n",
       "4 -0.445177  2.451204"
      ]
     },
     "execution_count": 74,
     "metadata": {},
     "output_type": "execute_result"
    }
   ],
   "source": [
    "pd.DataFrame(x,columns=features).head()"
   ]
  },
  {
   "cell_type": "code",
   "execution_count": 75,
   "metadata": {
    "executionInfo": {
     "elapsed": 17,
     "status": "ok",
     "timestamp": 1645084625030,
     "user": {
      "displayName": "김민주",
      "photoUrl": "https://lh3.googleusercontent.com/a/default-user=s64",
      "userId": "11516921233831833366"
     },
     "user_tz": -540
    },
    "id": "0DxosqjL1amn"
   },
   "outputs": [],
   "source": [
    "from sklearn.decomposition import PCA"
   ]
  },
  {
   "cell_type": "code",
   "execution_count": 76,
   "metadata": {
    "executionInfo": {
     "elapsed": 18,
     "status": "ok",
     "timestamp": 1645084625031,
     "user": {
      "displayName": "김민주",
      "photoUrl": "https://lh3.googleusercontent.com/a/default-user=s64",
      "userId": "11516921233831833366"
     },
     "user_tz": -540
    },
    "id": "sHRe72GX8det"
   },
   "outputs": [],
   "source": [
    "pca=PCA(n_components=2)"
   ]
  },
  {
   "cell_type": "code",
   "execution_count": 77,
   "metadata": {
    "executionInfo": {
     "elapsed": 19,
     "status": "ok",
     "timestamp": 1645084625032,
     "user": {
      "displayName": "김민주",
      "photoUrl": "https://lh3.googleusercontent.com/a/default-user=s64",
      "userId": "11516921233831833366"
     },
     "user_tz": -540
    },
    "id": "sHmnRgto1OmE"
   },
   "outputs": [],
   "source": [
    "printcipalComponents = pca.fit_transform(x)"
   ]
  },
  {
   "cell_type": "code",
   "execution_count": 78,
   "metadata": {
    "executionInfo": {
     "elapsed": 18,
     "status": "ok",
     "timestamp": 1645084625032,
     "user": {
      "displayName": "김민주",
      "photoUrl": "https://lh3.googleusercontent.com/a/default-user=s64",
      "userId": "11516921233831833366"
     },
     "user_tz": -540
    },
    "id": "PlT859kC-VyF"
   },
   "outputs": [],
   "source": [
    "principalDf = pd.DataFrame(data=printcipalComponents, columns = [\"principal component1\",\"principal components2\"])"
   ]
  },
  {
   "cell_type": "code",
   "execution_count": 79,
   "metadata": {
    "colab": {
     "base_uri": "https://localhost:8080/",
     "height": 206
    },
    "executionInfo": {
     "elapsed": 19,
     "status": "ok",
     "timestamp": 1645084625033,
     "user": {
      "displayName": "김민주",
      "photoUrl": "https://lh3.googleusercontent.com/a/default-user=s64",
      "userId": "11516921233831833366"
     },
     "user_tz": -540
    },
    "id": "Nz7D06hTwszH",
    "outputId": "13199cd9-d571-469e-afb2-593086a04d36"
   },
   "outputs": [
    {
     "data": {
      "text/html": [
       "<div>\n",
       "<style scoped>\n",
       "    .dataframe tbody tr th:only-of-type {\n",
       "        vertical-align: middle;\n",
       "    }\n",
       "\n",
       "    .dataframe tbody tr th {\n",
       "        vertical-align: top;\n",
       "    }\n",
       "\n",
       "    .dataframe thead th {\n",
       "        text-align: right;\n",
       "    }\n",
       "</style>\n",
       "<table border=\"1\" class=\"dataframe\">\n",
       "  <thead>\n",
       "    <tr style=\"text-align: right;\">\n",
       "      <th></th>\n",
       "      <th>principal component1</th>\n",
       "      <th>principal components2</th>\n",
       "    </tr>\n",
       "  </thead>\n",
       "  <tbody>\n",
       "    <tr>\n",
       "      <th>0</th>\n",
       "      <td>-0.284079</td>\n",
       "      <td>-0.355159</td>\n",
       "    </tr>\n",
       "    <tr>\n",
       "      <th>1</th>\n",
       "      <td>-0.852403</td>\n",
       "      <td>0.208332</td>\n",
       "    </tr>\n",
       "    <tr>\n",
       "      <th>2</th>\n",
       "      <td>0.284244</td>\n",
       "      <td>-0.918651</td>\n",
       "    </tr>\n",
       "    <tr>\n",
       "      <th>3</th>\n",
       "      <td>1.408812</td>\n",
       "      <td>-2.057714</td>\n",
       "    </tr>\n",
       "    <tr>\n",
       "      <th>4</th>\n",
       "      <td>1.418476</td>\n",
       "      <td>-2.048050</td>\n",
       "    </tr>\n",
       "  </tbody>\n",
       "</table>\n",
       "</div>"
      ],
      "text/plain": [
       "   principal component1  principal components2\n",
       "0             -0.284079              -0.355159\n",
       "1             -0.852403               0.208332\n",
       "2              0.284244              -0.918651\n",
       "3              1.408812              -2.057714\n",
       "4              1.418476              -2.048050"
      ]
     },
     "execution_count": 79,
     "metadata": {},
     "output_type": "execute_result"
    }
   ],
   "source": [
    "principalDf.head()"
   ]
  },
  {
   "cell_type": "code",
   "execution_count": 80,
   "metadata": {
    "executionInfo": {
     "elapsed": 18,
     "status": "ok",
     "timestamp": 1645084625034,
     "user": {
      "displayName": "김민주",
      "photoUrl": "https://lh3.googleusercontent.com/a/default-user=s64",
      "userId": "11516921233831833366"
     },
     "user_tz": -540
    },
    "id": "Cf9MyofxKmbs"
   },
   "outputs": [],
   "source": [
    "import numpy as np\n",
    "from sklearn.manifold import TSNE\n",
    "import seaborn as sns\n",
    "import matplotlib as mpl \n",
    "import matplotlib.pyplot as plt \n",
    "from gensim.models import KeyedVectors\n"
   ]
  },
  {
   "cell_type": "code",
   "execution_count": 81,
   "metadata": {
    "executionInfo": {
     "elapsed": 266,
     "status": "ok",
     "timestamp": 1645086418684,
     "user": {
      "displayName": "김민주",
      "photoUrl": "https://lh3.googleusercontent.com/a/default-user=s64",
      "userId": "11516921233831833366"
     },
     "user_tz": -540
    },
    "id": "a4v1N2KROqUo"
   },
   "outputs": [],
   "source": [
    "mpl.rcParams['axes.unicode_minus'] = False    #그래프에서 마이너스 코드 깨지는거 방지\n",
    "plt.rc('font', family='D2Coding')"
   ]
  },
  {
   "cell_type": "code",
   "execution_count": 82,
   "metadata": {
    "executionInfo": {
     "elapsed": 275,
     "status": "ok",
     "timestamp": 1645086420967,
     "user": {
      "displayName": "김민주",
      "photoUrl": "https://lh3.googleusercontent.com/a/default-user=s64",
      "userId": "11516921233831833366"
     },
     "user_tz": -540
    },
    "id": "uQFzQH2tOyau"
   },
   "outputs": [],
   "source": [
    "def show_tsne():\n",
    "  tsne = TSNE(n_components=2)\n",
    "  X = tsne.fit_transform(principalDf)"
   ]
  },
  {
   "cell_type": "code",
   "execution_count": 83,
   "metadata": {
    "colab": {
     "base_uri": "https://localhost:8080/"
    },
    "executionInfo": {
     "elapsed": 22224,
     "status": "ok",
     "timestamp": 1645086617734,
     "user": {
      "displayName": "김민주",
      "photoUrl": "https://lh3.googleusercontent.com/a/default-user=s64",
      "userId": "11516921233831833366"
     },
     "user_tz": -540
    },
    "id": "HrcQjuksPIG5",
    "outputId": "60bba298-d65e-4d89-b4c1-2d7fc50479c8"
   },
   "outputs": [
    {
     "name": "stderr",
     "output_type": "stream",
     "text": [
      "C:\\Users\\user\\anaconda3\\lib\\site-packages\\sklearn\\manifold\\_t_sne.py:780: FutureWarning: The default initialization in TSNE will change from 'random' to 'pca' in 1.2.\n",
      "  warnings.warn(\n",
      "C:\\Users\\user\\anaconda3\\lib\\site-packages\\sklearn\\manifold\\_t_sne.py:790: FutureWarning: The default learning rate in TSNE will change from 200.0 to 'auto' in 1.2.\n",
      "  warnings.warn(\n"
     ]
    }
   ],
   "source": [
    "# 3차원 t-SNE 임베딩.\n",
    "tsne_np = TSNE(n_components = 3).fit_transform(principalDf)\n",
    "\n",
    "# numpy array -> DataFrame 변환\n",
    "tsne_df = pd.DataFrame(tsne_np, columns = ['component 1', 'component 2','component 3'])"
   ]
  },
  {
   "cell_type": "code",
   "execution_count": 84,
   "metadata": {
    "colab": {
     "base_uri": "https://localhost:8080/"
    },
    "executionInfo": {
     "elapsed": 33,
     "status": "ok",
     "timestamp": 1645086617735,
     "user": {
      "displayName": "김민주",
      "photoUrl": "https://lh3.googleusercontent.com/a/default-user=s64",
      "userId": "11516921233831833366"
     },
     "user_tz": -540
    },
    "id": "ItK-j3LEviy-",
    "outputId": "93e058ba-5ab1-4c1e-f7a1-4aaebc7ad8cb"
   },
   "outputs": [
    {
     "name": "stdout",
     "output_type": "stream",
     "text": [
      "     component 1  component 2  component 3\n",
      "0     -56.038857    20.183956    94.928650\n",
      "1      78.012283    24.946482    79.616043\n",
      "2     102.880615   -43.189697    21.139992\n",
      "3      -6.723520   125.431885    17.896809\n",
      "4       2.887237   105.216423    17.941736\n",
      "..           ...          ...          ...\n",
      "409   -25.477970   -72.952881    56.190010\n",
      "410   -11.867987  -105.752884   -38.375290\n",
      "411   -90.743881   -22.885832   -22.269133\n",
      "412   -57.280746    86.274429    42.960732\n",
      "413    -2.218616    73.309715   -51.904320\n",
      "\n",
      "[414 rows x 3 columns]\n"
     ]
    }
   ],
   "source": [
    "print(tsne_df)"
   ]
  },
  {
   "cell_type": "code",
   "execution_count": 85,
   "metadata": {
    "colab": {
     "base_uri": "https://localhost:8080/",
     "height": 357
    },
    "executionInfo": {
     "elapsed": 1439,
     "status": "ok",
     "timestamp": 1645086664826,
     "user": {
      "displayName": "김민주",
      "photoUrl": "https://lh3.googleusercontent.com/a/default-user=s64",
      "userId": "11516921233831833366"
     },
     "user_tz": -540
    },
    "id": "HODunAUKxIHv",
    "outputId": "0c44fd9d-49f4-4a9a-a9ec-51788461dd14"
   },
   "outputs": [
    {
     "data": {
      "image/png": "[encoded data removed]",
      "text/plain": [
       "<Figure size 648x432 with 1 Axes>"
      ]
     },
     "metadata": {
      "needs_background": "light"
     },
     "output_type": "display_data"
    }
   ],
   "source": [
    "# 3차원 그래프 세팅\n",
    "fig = plt.figure(figsize=(9, 6))\n",
    "ax = fig.add_subplot(111, projection='3d')\n",
    "\n",
    "#  정보 불러오기 \n",
    "tsne_df['CUS_ID'] = test1['CUS_ID']\n",
    "\n",
    "# 분리\n",
    "tsne_df_0 = tsne_df[tsne_df['CUS_ID'] == 0]\n",
    "tsne_df_1 = tsne_df[tsne_df['CUS_ID'] == 1]\n",
    "tsne_df_2 = tsne_df[tsne_df['CUS_ID'] == 2]\n",
    "tsne_df_3 = tsne_df[tsne_df['CUS_ID'] == 3]\n",
    "tsne_df_4 = tsne_df[tsne_df['CUS_ID'] == 4]\n",
    "# 시각화\n",
    "ax.scatter(tsne_df_0['component 1'], tsne_df_0['component 2'], tsne_df_0['component 3'], color = 'pink', label = '1')\n",
    "ax.scatter(tsne_df_1['component 1'], tsne_df_1['component 2'], tsne_df_1['component 3'], color = 'purple', label = '2')\n",
    "ax.scatter(tsne_df_2['component 1'], tsne_df_2['component 2'], tsne_df_2['component 3'], color = 'yellow', label = '3')\n",
    "ax.scatter(tsne_df_3['component 1'], tsne_df_3['component 2'], tsne_df_3['component 3'], color = 'red', label = '4')\n",
    "ax.scatter(tsne_df_4['component 1'], tsne_df_4['component 2'], tsne_df_4['component 3'], color = 'black', label = '5')\n",
    "\n",
    "ax.set_xlabel('component 1')\n",
    "ax.set_ylabel('component 2')\n",
    "ax.set_zlabel('component 3')\n",
    "ax.legend()\n",
    "plt.show()"
   ]
  },
  {
   "cell_type": "code",
   "execution_count": null,
   "metadata": {
    "executionInfo": {
     "elapsed": 361,
     "status": "aborted",
     "timestamp": 1645084626866,
     "user": {
      "displayName": "김민주",
      "photoUrl": "https://lh3.googleusercontent.com/a/default-user=s64",
      "userId": "11516921233831833366"
     },
     "user_tz": -540
    },
    "id": "JNnrfGO36XJ5"
   },
   "outputs": [],
   "source": []
  },
  {
   "cell_type": "code",
   "execution_count": 43,
   "metadata": {
    "executionInfo": {
     "elapsed": 360,
     "status": "aborted",
     "timestamp": 1645084626867,
     "user": {
      "displayName": "김민주",
      "photoUrl": "https://lh3.googleusercontent.com/a/default-user=s64",
      "userId": "11516921233831833366"
     },
     "user_tz": -540
    },
    "id": "utzXn-VS3O91"
   },
   "outputs": [],
   "source": [
    "\n",
    "#https://hleecaster.com/python-pandas-selecting-data/\n"
   ]
  },
  {
   "cell_type": "code",
   "execution_count": null,
   "metadata": {
    "executionInfo": {
     "elapsed": 359,
     "status": "aborted",
     "timestamp": 1645084626867,
     "user": {
      "displayName": "김민주",
      "photoUrl": "https://lh3.googleusercontent.com/a/default-user=s64",
      "userId": "11516921233831833366"
     },
     "user_tz": -540
    },
    "id": "XzmyOe-G4jhK"
   },
   "outputs": [],
   "source": []
  },
  {
   "cell_type": "code",
   "execution_count": null,
   "metadata": {
    "executionInfo": {
     "elapsed": 359,
     "status": "aborted",
     "timestamp": 1645084626867,
     "user": {
      "displayName": "김민주",
      "photoUrl": "https://lh3.googleusercontent.com/a/default-user=s64",
      "userId": "11516921233831833366"
     },
     "user_tz": -540
    },
    "id": "tlSY6Z594rOq"
   },
   "outputs": [],
   "source": []
  },
  {
   "cell_type": "code",
   "execution_count": null,
   "metadata": {
    "executionInfo": {
     "elapsed": 360,
     "status": "aborted",
     "timestamp": 1645084626868,
     "user": {
      "displayName": "김민주",
      "photoUrl": "https://lh3.googleusercontent.com/a/default-user=s64",
      "userId": "11516921233831833366"
     },
     "user_tz": -540
    },
    "id": "erIyQMFn4bsS"
   },
   "outputs": [],
   "source": []
  },
  {
   "cell_type": "code",
   "execution_count": null,
   "metadata": {
    "executionInfo": {
     "elapsed": 359,
     "status": "aborted",
     "timestamp": 1645084626868,
     "user": {
      "displayName": "김민주",
      "photoUrl": "https://lh3.googleusercontent.com/a/default-user=s64",
      "userId": "11516921233831833366"
     },
     "user_tz": -540
    },
    "id": "xvgO4ZHZ4JDK"
   },
   "outputs": [],
   "source": []
  },
  {
   "cell_type": "code",
   "execution_count": null,
   "metadata": {
    "executionInfo": {
     "elapsed": 359,
     "status": "aborted",
     "timestamp": 1645084626868,
     "user": {
      "displayName": "김민주",
      "photoUrl": "https://lh3.googleusercontent.com/a/default-user=s64",
      "userId": "11516921233831833366"
     },
     "user_tz": -540
    },
    "id": "pjK8qEPR32Ry"
   },
   "outputs": [],
   "source": []
  },
  {
   "cell_type": "code",
   "execution_count": null,
   "metadata": {
    "executionInfo": {
     "elapsed": 359,
     "status": "aborted",
     "timestamp": 1645084626868,
     "user": {
      "displayName": "김민주",
      "photoUrl": "https://lh3.googleusercontent.com/a/default-user=s64",
      "userId": "11516921233831833366"
     },
     "user_tz": -540
    },
    "id": "Mqd2XhWw3gE6"
   },
   "outputs": [],
   "source": []
  },
  {
   "cell_type": "code",
   "execution_count": null,
   "metadata": {
    "executionInfo": {
     "elapsed": 359,
     "status": "aborted",
     "timestamp": 1645084626868,
     "user": {
      "displayName": "김민주",
      "photoUrl": "https://lh3.googleusercontent.com/a/default-user=s64",
      "userId": "11516921233831833366"
     },
     "user_tz": -540
    },
    "id": "DWL5LNnC2E1q"
   },
   "outputs": [],
   "source": []
  },
  {
   "cell_type": "code",
   "execution_count": null,
   "metadata": {
    "executionInfo": {
     "elapsed": 359,
     "status": "aborted",
     "timestamp": 1645084626869,
     "user": {
      "displayName": "김민주",
      "photoUrl": "https://lh3.googleusercontent.com/a/default-user=s64",
      "userId": "11516921233831833366"
     },
     "user_tz": -540
    },
    "id": "bPX8kgLOLWnW"
   },
   "outputs": [],
   "source": []
  },
  {
   "cell_type": "code",
   "execution_count": null,
   "metadata": {
    "executionInfo": {
     "elapsed": 359,
     "status": "aborted",
     "timestamp": 1645084626869,
     "user": {
      "displayName": "김민주",
      "photoUrl": "https://lh3.googleusercontent.com/a/default-user=s64",
      "userId": "11516921233831833366"
     },
     "user_tz": -540
    },
    "id": "fElDijhYLQfy"
   },
   "outputs": [],
   "source": []
  },
  {
   "cell_type": "code",
   "execution_count": null,
   "metadata": {
    "executionInfo": {
     "elapsed": 359,
     "status": "aborted",
     "timestamp": 1645084626869,
     "user": {
      "displayName": "김민주",
      "photoUrl": "https://lh3.googleusercontent.com/a/default-user=s64",
      "userId": "11516921233831833366"
     },
     "user_tz": -540
    },
    "id": "NVvxSFoVLHTu"
   },
   "outputs": [],
   "source": []
  },
  {
   "cell_type": "code",
   "execution_count": null,
   "metadata": {
    "executionInfo": {
     "elapsed": 359,
     "status": "aborted",
     "timestamp": 1645084626869,
     "user": {
      "displayName": "김민주",
      "photoUrl": "https://lh3.googleusercontent.com/a/default-user=s64",
      "userId": "11516921233831833366"
     },
     "user_tz": -540
    },
    "id": "QYsHGG5fKg9_"
   },
   "outputs": [],
   "source": []
  },
  {
   "cell_type": "code",
   "execution_count": null,
   "metadata": {
    "executionInfo": {
     "elapsed": 359,
     "status": "aborted",
     "timestamp": 1645084626870,
     "user": {
      "displayName": "김민주",
      "photoUrl": "https://lh3.googleusercontent.com/a/default-user=s64",
      "userId": "11516921233831833366"
     },
     "user_tz": -540
    },
    "id": "gKEZsVr-Jknt"
   },
   "outputs": [],
   "source": []
  },
  {
   "cell_type": "code",
   "execution_count": null,
   "metadata": {
    "executionInfo": {
     "elapsed": 359,
     "status": "aborted",
     "timestamp": 1645084626870,
     "user": {
      "displayName": "김민주",
      "photoUrl": "https://lh3.googleusercontent.com/a/default-user=s64",
      "userId": "11516921233831833366"
     },
     "user_tz": -540
    },
    "id": "FCIKLq3mGRCV"
   },
   "outputs": [],
   "source": []
  },
  {
   "cell_type": "code",
   "execution_count": null,
   "metadata": {
    "executionInfo": {
     "elapsed": 359,
     "status": "aborted",
     "timestamp": 1645084626870,
     "user": {
      "displayName": "김민주",
      "photoUrl": "https://lh3.googleusercontent.com/a/default-user=s64",
      "userId": "11516921233831833366"
     },
     "user_tz": -540
    },
    "id": "uXpM2wDPJmEK"
   },
   "outputs": [],
   "source": []
  },
  {
   "cell_type": "code",
   "execution_count": null,
   "metadata": {
    "executionInfo": {
     "elapsed": 358,
     "status": "aborted",
     "timestamp": 1645084626870,
     "user": {
      "displayName": "김민주",
      "photoUrl": "https://lh3.googleusercontent.com/a/default-user=s64",
      "userId": "11516921233831833366"
     },
     "user_tz": -540
    },
    "id": "ICFNUH7ZGVrn"
   },
   "outputs": [],
   "source": []
  },
  {
   "cell_type": "code",
   "execution_count": null,
   "metadata": {
    "executionInfo": {
     "elapsed": 359,
     "status": "aborted",
     "timestamp": 1645084626871,
     "user": {
      "displayName": "김민주",
      "photoUrl": "https://lh3.googleusercontent.com/a/default-user=s64",
      "userId": "11516921233831833366"
     },
     "user_tz": -540
    },
    "id": "Tbz0vscbGJ83"
   },
   "outputs": [],
   "source": []
  },
  {
   "cell_type": "code",
   "execution_count": null,
   "metadata": {
    "executionInfo": {
     "elapsed": 359,
     "status": "aborted",
     "timestamp": 1645084626871,
     "user": {
      "displayName": "김민주",
      "photoUrl": "https://lh3.googleusercontent.com/a/default-user=s64",
      "userId": "11516921233831833366"
     },
     "user_tz": -540
    },
    "id": "9XiT-SaBGHPn"
   },
   "outputs": [],
   "source": []
  },
  {
   "cell_type": "code",
   "execution_count": null,
   "metadata": {
    "executionInfo": {
     "elapsed": 358,
     "status": "aborted",
     "timestamp": 1645084626871,
     "user": {
      "displayName": "김민주",
      "photoUrl": "https://lh3.googleusercontent.com/a/default-user=s64",
      "userId": "11516921233831833366"
     },
     "user_tz": -540
    },
    "id": "agzWnSR1C_B_"
   },
   "outputs": [],
   "source": []
  },
  {
   "cell_type": "code",
   "execution_count": null,
   "metadata": {
    "executionInfo": {
     "elapsed": 359,
     "status": "aborted",
     "timestamp": 1645084626872,
     "user": {
      "displayName": "김민주",
      "photoUrl": "https://lh3.googleusercontent.com/a/default-user=s64",
      "userId": "11516921233831833366"
     },
     "user_tz": -540
    },
    "id": "siexu5wJC9zV"
   },
   "outputs": [],
   "source": []
  },
  {
   "cell_type": "code",
   "execution_count": null,
   "metadata": {
    "executionInfo": {
     "elapsed": 359,
     "status": "aborted",
     "timestamp": 1645084626872,
     "user": {
      "displayName": "김민주",
      "photoUrl": "https://lh3.googleusercontent.com/a/default-user=s64",
      "userId": "11516921233831833366"
     },
     "user_tz": -540
    },
    "id": "VL-7uL_e-2Nm"
   },
   "outputs": [],
   "source": []
  },
  {
   "cell_type": "code",
   "execution_count": null,
   "metadata": {
    "executionInfo": {
     "elapsed": 360,
     "status": "aborted",
     "timestamp": 1645084626873,
     "user": {
      "displayName": "김민주",
      "photoUrl": "https://lh3.googleusercontent.com/a/default-user=s64",
      "userId": "11516921233831833366"
     },
     "user_tz": -540
    },
    "id": "smO1woXn-1Lk"
   },
   "outputs": [],
   "source": []
  },
  {
   "cell_type": "code",
   "execution_count": null,
   "metadata": {
    "executionInfo": {
     "elapsed": 32,
     "status": "aborted",
     "timestamp": 1645084626874,
     "user": {
      "displayName": "김민주",
      "photoUrl": "https://lh3.googleusercontent.com/a/default-user=s64",
      "userId": "11516921233831833366"
     },
     "user_tz": -540
    },
    "id": "ga_lHN3g-zXh"
   },
   "outputs": [],
   "source": []
  },
  {
   "cell_type": "code",
   "execution_count": null,
   "metadata": {
    "executionInfo": {
     "elapsed": 31,
     "status": "aborted",
     "timestamp": 1645084626874,
     "user": {
      "displayName": "김민주",
      "photoUrl": "https://lh3.googleusercontent.com/a/default-user=s64",
      "userId": "11516921233831833366"
     },
     "user_tz": -540
    },
    "id": "VZMlBE-j-o6c"
   },
   "outputs": [],
   "source": []
  },
  {
   "cell_type": "code",
   "execution_count": null,
   "metadata": {
    "executionInfo": {
     "elapsed": 31,
     "status": "aborted",
     "timestamp": 1645084626874,
     "user": {
      "displayName": "김민주",
      "photoUrl": "https://lh3.googleusercontent.com/a/default-user=s64",
      "userId": "11516921233831833366"
     },
     "user_tz": -540
    },
    "id": "D7p7din5-npu"
   },
   "outputs": [],
   "source": []
  },
  {
   "cell_type": "code",
   "execution_count": null,
   "metadata": {
    "executionInfo": {
     "elapsed": 32,
     "status": "aborted",
     "timestamp": 1645084626875,
     "user": {
      "displayName": "김민주",
      "photoUrl": "https://lh3.googleusercontent.com/a/default-user=s64",
      "userId": "11516921233831833366"
     },
     "user_tz": -540
    },
    "id": "zOu8XGHe-kjB"
   },
   "outputs": [],
   "source": []
  },
  {
   "cell_type": "code",
   "execution_count": null,
   "metadata": {
    "executionInfo": {
     "elapsed": 32,
     "status": "aborted",
     "timestamp": 1645084626875,
     "user": {
      "displayName": "김민주",
      "photoUrl": "https://lh3.googleusercontent.com/a/default-user=s64",
      "userId": "11516921233831833366"
     },
     "user_tz": -540
    },
    "id": "w7FSxhvg-c89"
   },
   "outputs": [],
   "source": []
  },
  {
   "cell_type": "code",
   "execution_count": null,
   "metadata": {
    "executionInfo": {
     "elapsed": 32,
     "status": "aborted",
     "timestamp": 1645084626875,
     "user": {
      "displayName": "김민주",
      "photoUrl": "https://lh3.googleusercontent.com/a/default-user=s64",
      "userId": "11516921233831833366"
     },
     "user_tz": -540
    },
    "id": "w2MVoW4--bi0"
   },
   "outputs": [],
   "source": []
  },
  {
   "cell_type": "code",
   "execution_count": null,
   "metadata": {
    "executionInfo": {
     "elapsed": 32,
     "status": "aborted",
     "timestamp": 1645084626875,
     "user": {
      "displayName": "김민주",
      "photoUrl": "https://lh3.googleusercontent.com/a/default-user=s64",
      "userId": "11516921233831833366"
     },
     "user_tz": -540
    },
    "id": "UixhJ7UG-PM0"
   },
   "outputs": [],
   "source": []
  },
  {
   "cell_type": "code",
   "execution_count": null,
   "metadata": {
    "executionInfo": {
     "elapsed": 32,
     "status": "aborted",
     "timestamp": 1645084626875,
     "user": {
      "displayName": "김민주",
      "photoUrl": "https://lh3.googleusercontent.com/a/default-user=s64",
      "userId": "11516921233831833366"
     },
     "user_tz": -540
    },
    "id": "j0Cu4gjn-ELS"
   },
   "outputs": [],
   "source": []
  },
  {
   "cell_type": "code",
   "execution_count": null,
   "metadata": {
    "executionInfo": {
     "elapsed": 33,
     "status": "aborted",
     "timestamp": 1645084626876,
     "user": {
      "displayName": "김민주",
      "photoUrl": "https://lh3.googleusercontent.com/a/default-user=s64",
      "userId": "11516921233831833366"
     },
     "user_tz": -540
    },
    "id": "3RgPZ7ww98UX"
   },
   "outputs": [],
   "source": []
  },
  {
   "cell_type": "code",
   "execution_count": null,
   "metadata": {
    "executionInfo": {
     "elapsed": 32,
     "status": "aborted",
     "timestamp": 1645084626876,
     "user": {
      "displayName": "김민주",
      "photoUrl": "https://lh3.googleusercontent.com/a/default-user=s64",
      "userId": "11516921233831833366"
     },
     "user_tz": -540
    },
    "id": "veboMs-r9v0H"
   },
   "outputs": [],
   "source": []
  },
  {
   "cell_type": "code",
   "execution_count": null,
   "metadata": {
    "executionInfo": {
     "elapsed": 32,
     "status": "aborted",
     "timestamp": 1645084626876,
     "user": {
      "displayName": "김민주",
      "photoUrl": "https://lh3.googleusercontent.com/a/default-user=s64",
      "userId": "11516921233831833366"
     },
     "user_tz": -540
    },
    "id": "bqsx3T5R9sbl"
   },
   "outputs": [],
   "source": []
  },
  {
   "cell_type": "code",
   "execution_count": null,
   "metadata": {
    "executionInfo": {
     "elapsed": 32,
     "status": "aborted",
     "timestamp": 1645084626876,
     "user": {
      "displayName": "김민주",
      "photoUrl": "https://lh3.googleusercontent.com/a/default-user=s64",
      "userId": "11516921233831833366"
     },
     "user_tz": -540
    },
    "id": "OwjDzecb9pkK"
   },
   "outputs": [],
   "source": []
  },
  {
   "cell_type": "code",
   "execution_count": null,
   "metadata": {
    "executionInfo": {
     "elapsed": 410,
     "status": "aborted",
     "timestamp": 1645084627254,
     "user": {
      "displayName": "김민주",
      "photoUrl": "https://lh3.googleusercontent.com/a/default-user=s64",
      "userId": "11516921233831833366"
     },
     "user_tz": -540
    },
    "id": "Hn9krcNo9WoF"
   },
   "outputs": [],
   "source": []
  },
  {
   "cell_type": "code",
   "execution_count": null,
   "metadata": {
    "executionInfo": {
     "elapsed": 412,
     "status": "aborted",
     "timestamp": 1645084627256,
     "user": {
      "displayName": "김민주",
      "photoUrl": "https://lh3.googleusercontent.com/a/default-user=s64",
      "userId": "11516921233831833366"
     },
     "user_tz": -540
    },
    "id": "xuNIxGo78Vn_"
   },
   "outputs": [],
   "source": []
  },
  {
   "cell_type": "code",
   "execution_count": null,
   "metadata": {
    "executionInfo": {
     "elapsed": 413,
     "status": "aborted",
     "timestamp": 1645084627257,
     "user": {
      "displayName": "김민주",
      "photoUrl": "https://lh3.googleusercontent.com/a/default-user=s64",
      "userId": "11516921233831833366"
     },
     "user_tz": -540
    },
    "id": "YQd1bNmn8TzB"
   },
   "outputs": [],
   "source": []
  },
  {
   "cell_type": "code",
   "execution_count": null,
   "metadata": {
    "executionInfo": {
     "elapsed": 413,
     "status": "aborted",
     "timestamp": 1645084627257,
     "user": {
      "displayName": "김민주",
      "photoUrl": "https://lh3.googleusercontent.com/a/default-user=s64",
      "userId": "11516921233831833366"
     },
     "user_tz": -540
    },
    "id": "09zDPR3K8SiD"
   },
   "outputs": [],
   "source": []
  },
  {
   "cell_type": "code",
   "execution_count": null,
   "metadata": {
    "executionInfo": {
     "elapsed": 414,
     "status": "aborted",
     "timestamp": 1645084627258,
     "user": {
      "displayName": "김민주",
      "photoUrl": "https://lh3.googleusercontent.com/a/default-user=s64",
      "userId": "11516921233831833366"
     },
     "user_tz": -540
    },
    "id": "FJMn9lJ08RD7"
   },
   "outputs": [],
   "source": []
  },
  {
   "cell_type": "code",
   "execution_count": null,
   "metadata": {
    "executionInfo": {
     "elapsed": 415,
     "status": "aborted",
     "timestamp": 1645084627259,
     "user": {
      "displayName": "김민주",
      "photoUrl": "https://lh3.googleusercontent.com/a/default-user=s64",
      "userId": "11516921233831833366"
     },
     "user_tz": -540
    },
    "id": "7A-uyGKo8LYp"
   },
   "outputs": [],
   "source": []
  },
  {
   "cell_type": "code",
   "execution_count": null,
   "metadata": {
    "executionInfo": {
     "elapsed": 414,
     "status": "aborted",
     "timestamp": 1645084627259,
     "user": {
      "displayName": "김민주",
      "photoUrl": "https://lh3.googleusercontent.com/a/default-user=s64",
      "userId": "11516921233831833366"
     },
     "user_tz": -540
    },
    "id": "TYVL5XV28IT_"
   },
   "outputs": [],
   "source": []
  },
  {
   "cell_type": "code",
   "execution_count": null,
   "metadata": {
    "executionInfo": {
     "elapsed": 415,
     "status": "aborted",
     "timestamp": 1645084627260,
     "user": {
      "displayName": "김민주",
      "photoUrl": "https://lh3.googleusercontent.com/a/default-user=s64",
      "userId": "11516921233831833366"
     },
     "user_tz": -540
    },
    "id": "IkfKuVdC8DH3"
   },
   "outputs": [],
   "source": []
  },
  {
   "cell_type": "code",
   "execution_count": null,
   "metadata": {
    "executionInfo": {
     "elapsed": 415,
     "status": "aborted",
     "timestamp": 1645084627260,
     "user": {
      "displayName": "김민주",
      "photoUrl": "https://lh3.googleusercontent.com/a/default-user=s64",
      "userId": "11516921233831833366"
     },
     "user_tz": -540
    },
    "id": "TDMj-H7k78TE"
   },
   "outputs": [],
   "source": []
  },
  {
   "cell_type": "code",
   "execution_count": null,
   "metadata": {
    "executionInfo": {
     "elapsed": 416,
     "status": "aborted",
     "timestamp": 1645084627261,
     "user": {
      "displayName": "김민주",
      "photoUrl": "https://lh3.googleusercontent.com/a/default-user=s64",
      "userId": "11516921233831833366"
     },
     "user_tz": -540
    },
    "id": "DviWRbNA7vol"
   },
   "outputs": [],
   "source": []
  },
  {
   "cell_type": "code",
   "execution_count": null,
   "metadata": {
    "executionInfo": {
     "elapsed": 416,
     "status": "aborted",
     "timestamp": 1645084627261,
     "user": {
      "displayName": "김민주",
      "photoUrl": "https://lh3.googleusercontent.com/a/default-user=s64",
      "userId": "11516921233831833366"
     },
     "user_tz": -540
    },
    "id": "rBY75lN37uxK"
   },
   "outputs": [],
   "source": []
  },
  {
   "cell_type": "code",
   "execution_count": null,
   "metadata": {
    "executionInfo": {
     "elapsed": 417,
     "status": "aborted",
     "timestamp": 1645084627262,
     "user": {
      "displayName": "김민주",
      "photoUrl": "https://lh3.googleusercontent.com/a/default-user=s64",
      "userId": "11516921233831833366"
     },
     "user_tz": -540
    },
    "id": "sNYjMLa07rds"
   },
   "outputs": [],
   "source": []
  },
  {
   "cell_type": "code",
   "execution_count": null,
   "metadata": {
    "executionInfo": {
     "elapsed": 418,
     "status": "aborted",
     "timestamp": 1645084627263,
     "user": {
      "displayName": "김민주",
      "photoUrl": "https://lh3.googleusercontent.com/a/default-user=s64",
      "userId": "11516921233831833366"
     },
     "user_tz": -540
    },
    "id": "geTeDMwe7pOe"
   },
   "outputs": [],
   "source": []
  },
  {
   "cell_type": "code",
   "execution_count": null,
   "metadata": {
    "executionInfo": {
     "elapsed": 418,
     "status": "aborted",
     "timestamp": 1645084627263,
     "user": {
      "displayName": "김민주",
      "photoUrl": "https://lh3.googleusercontent.com/a/default-user=s64",
      "userId": "11516921233831833366"
     },
     "user_tz": -540
    },
    "id": "tNFDusYS7F03"
   },
   "outputs": [],
   "source": []
  },
  {
   "cell_type": "code",
   "execution_count": null,
   "metadata": {
    "executionInfo": {
     "elapsed": 419,
     "status": "aborted",
     "timestamp": 1645084627264,
     "user": {
      "displayName": "김민주",
      "photoUrl": "https://lh3.googleusercontent.com/a/default-user=s64",
      "userId": "11516921233831833366"
     },
     "user_tz": -540
    },
    "id": "CutIaGao6rsm"
   },
   "outputs": [],
   "source": []
  },
  {
   "cell_type": "code",
   "execution_count": null,
   "metadata": {
    "executionInfo": {
     "elapsed": 420,
     "status": "aborted",
     "timestamp": 1645084627265,
     "user": {
      "displayName": "김민주",
      "photoUrl": "https://lh3.googleusercontent.com/a/default-user=s64",
      "userId": "11516921233831833366"
     },
     "user_tz": -540
    },
    "id": "GQr4wm_E6nZE"
   },
   "outputs": [],
   "source": []
  },
  {
   "cell_type": "code",
   "execution_count": null,
   "metadata": {
    "executionInfo": {
     "elapsed": 419,
     "status": "aborted",
     "timestamp": 1645084627265,
     "user": {
      "displayName": "김민주",
      "photoUrl": "https://lh3.googleusercontent.com/a/default-user=s64",
      "userId": "11516921233831833366"
     },
     "user_tz": -540
    },
    "id": "tBhnM63s5zkC"
   },
   "outputs": [],
   "source": []
  },
  {
   "cell_type": "code",
   "execution_count": null,
   "metadata": {
    "executionInfo": {
     "elapsed": 420,
     "status": "aborted",
     "timestamp": 1645084627266,
     "user": {
      "displayName": "김민주",
      "photoUrl": "https://lh3.googleusercontent.com/a/default-user=s64",
      "userId": "11516921233831833366"
     },
     "user_tz": -540
    },
    "id": "ma0DyHuL5uIo"
   },
   "outputs": [],
   "source": []
  },
  {
   "cell_type": "code",
   "execution_count": null,
   "metadata": {
    "executionInfo": {
     "elapsed": 421,
     "status": "aborted",
     "timestamp": 1645084627267,
     "user": {
      "displayName": "김민주",
      "photoUrl": "https://lh3.googleusercontent.com/a/default-user=s64",
      "userId": "11516921233831833366"
     },
     "user_tz": -540
    },
    "id": "fffq38855jdQ"
   },
   "outputs": [],
   "source": []
  },
  {
   "cell_type": "code",
   "execution_count": null,
   "metadata": {
    "executionInfo": {
     "elapsed": 421,
     "status": "aborted",
     "timestamp": 1645084627267,
     "user": {
      "displayName": "김민주",
      "photoUrl": "https://lh3.googleusercontent.com/a/default-user=s64",
      "userId": "11516921233831833366"
     },
     "user_tz": -540
    },
    "id": "FTo0Ylcy5gdT"
   },
   "outputs": [],
   "source": []
  },
  {
   "cell_type": "code",
   "execution_count": null,
   "metadata": {
    "executionInfo": {
     "elapsed": 422,
     "status": "aborted",
     "timestamp": 1645084627268,
     "user": {
      "displayName": "김민주",
      "photoUrl": "https://lh3.googleusercontent.com/a/default-user=s64",
      "userId": "11516921233831833366"
     },
     "user_tz": -540
    },
    "id": "1GgICuCg5d9S"
   },
   "outputs": [],
   "source": []
  },
  {
   "cell_type": "code",
   "execution_count": null,
   "metadata": {
    "executionInfo": {
     "elapsed": 423,
     "status": "aborted",
     "timestamp": 1645084627269,
     "user": {
      "displayName": "김민주",
      "photoUrl": "https://lh3.googleusercontent.com/a/default-user=s64",
      "userId": "11516921233831833366"
     },
     "user_tz": -540
    },
    "id": "Z9t1AnQ65HJQ"
   },
   "outputs": [],
   "source": []
  },
  {
   "cell_type": "code",
   "execution_count": null,
   "metadata": {
    "executionInfo": {
     "elapsed": 423,
     "status": "aborted",
     "timestamp": 1645084627269,
     "user": {
      "displayName": "김민주",
      "photoUrl": "https://lh3.googleusercontent.com/a/default-user=s64",
      "userId": "11516921233831833366"
     },
     "user_tz": -540
    },
    "id": "pjYWBTXr5GMY"
   },
   "outputs": [],
   "source": []
  },
  {
   "cell_type": "code",
   "execution_count": null,
   "metadata": {
    "executionInfo": {
     "elapsed": 424,
     "status": "aborted",
     "timestamp": 1645084627270,
     "user": {
      "displayName": "김민주",
      "photoUrl": "https://lh3.googleusercontent.com/a/default-user=s64",
      "userId": "11516921233831833366"
     },
     "user_tz": -540
    },
    "id": "DJFC3bU746lY"
   },
   "outputs": [],
   "source": []
  },
  {
   "cell_type": "code",
   "execution_count": null,
   "metadata": {
    "executionInfo": {
     "elapsed": 424,
     "status": "aborted",
     "timestamp": 1645084627271,
     "user": {
      "displayName": "김민주",
      "photoUrl": "https://lh3.googleusercontent.com/a/default-user=s64",
      "userId": "11516921233831833366"
     },
     "user_tz": -540
    },
    "id": "bnT6LmVEzqYO"
   },
   "outputs": [],
   "source": []
  },
  {
   "cell_type": "code",
   "execution_count": null,
   "metadata": {
    "executionInfo": {
     "elapsed": 424,
     "status": "aborted",
     "timestamp": 1645084627271,
     "user": {
      "displayName": "김민주",
      "photoUrl": "https://lh3.googleusercontent.com/a/default-user=s64",
      "userId": "11516921233831833366"
     },
     "user_tz": -540
    },
    "id": "Qsdl2qTKzApI"
   },
   "outputs": [],
   "source": []
  },
  {
   "cell_type": "code",
   "execution_count": null,
   "metadata": {
    "executionInfo": {
     "elapsed": 425,
     "status": "aborted",
     "timestamp": 1645084627272,
     "user": {
      "displayName": "김민주",
      "photoUrl": "https://lh3.googleusercontent.com/a/default-user=s64",
      "userId": "11516921233831833366"
     },
     "user_tz": -540
    },
    "id": "VA0gRHANy8HL"
   },
   "outputs": [],
   "source": []
  },
  {
   "cell_type": "code",
   "execution_count": null,
   "metadata": {
    "executionInfo": {
     "elapsed": 425,
     "status": "aborted",
     "timestamp": 1645084627272,
     "user": {
      "displayName": "김민주",
      "photoUrl": "https://lh3.googleusercontent.com/a/default-user=s64",
      "userId": "11516921233831833366"
     },
     "user_tz": -540
    },
    "id": "bKcCuMa9yYFh"
   },
   "outputs": [],
   "source": []
  },
  {
   "cell_type": "markdown",
   "metadata": {
    "id": "KcsRwGuJxyT4"
   },
   "source": [
    "# 새 섹션"
   ]
  }
 ],
 "metadata": {
  "colab": {
   "collapsed_sections": [],
   "name": "5주차웅.ipynb",
   "provenance": []
  },
  "kernelspec": {
   "display_name": "Python 3 (ipykernel)",
   "language": "python",
   "name": "python3"
  },
  "language_info": {
   "codemirror_mode": {
    "name": "ipython",
    "version": 3
   },
   "file_extension": ".py",
   "mimetype": "text/x-python",
   "name": "python",
   "nbconvert_exporter": "python",
   "pygments_lexer": "ipython3",
   "version": "3.9.7"
  }
 },
 "nbformat": 4,
 "nbformat_minor": 1
}
