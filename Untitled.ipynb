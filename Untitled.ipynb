{
 "cells": [
  {
   "cell_type": "code",
   "execution_count": 22,
   "id": "31f86973",
   "metadata": {},
   "outputs": [
    {
     "name": "stdout",
     "output_type": "stream",
     "text": [
      "3\n",
      "int32\n",
      "3\n"
     ]
    }
   ],
   "source": [
    "import numpy as np\n",
    "\n",
    "#List를 Numpy로 바꾸기\n",
    "array = np.array([1,2,3])\n",
    "\n",
    "print(array.size) # 배열의 크기\n",
    "print(array.dtype) # 배열 원소의 타입\n",
    "print(array[2]) # 인덱스 2의 원소"
   ]
  },
  {
   "cell_type": "code",
   "execution_count": 23,
   "id": "d8fae80d",
   "metadata": {},
   "outputs": [
    {
     "name": "stdout",
     "output_type": "stream",
     "text": [
      "[0 1 2 3]\n",
      "[[0. 0. 0. 0.]\n",
      " [0. 0. 0. 0.]\n",
      " [0. 0. 0. 0.]\n",
      " [0. 0. 0. 0.]]\n",
      "[['1' '1' '1']\n",
      " ['1' '1' '1']\n",
      " ['1' '1' '1']]\n",
      "[[1 5 6]\n",
      " [0 4 9]\n",
      " [8 6 0]]\n",
      "[[ 0.55292935  1.59372082  0.80854621]\n",
      " [-0.40735162 -0.70719287  1.74024322]\n",
      " [ 0.81041475 -0.62347269  1.55485692]]\n"
     ]
    }
   ],
   "source": [
    "#Numpy 배열 초기화\n",
    "\n",
    "#0부터 3까지의 배열 만들기\n",
    "array1 = np.arange(4) \n",
    "array2 = np.zeros((4, 4), dtype=float) # 0으로 초기화(2차원 배열을 위해 4,4를 넣음)\n",
    "array3 = np.ones((3, 3), dtype=str) # 1로 초기화\n",
    "#0부터 9까지 랜덤하게 초기화 된 배열 만들기\n",
    "array4 = np.random.randint(0, 10, (3, 3)) #0~9까지 3x3배열\n",
    "#평균이 0이고 표준편차가 1인 표준 정규를 띄는 배열\n",
    "array5 = np.random.normal(0, 1, (3, 3))\n",
    "print(array1)\n",
    "print(array2)\n",
    "print(array3)\n",
    "print(array4)\n",
    "print(array5)"
   ]
  },
  {
   "cell_type": "code",
   "execution_count": 24,
   "id": "eb6965d3",
   "metadata": {},
   "outputs": [
    {
     "name": "stdout",
     "output_type": "stream",
     "text": [
      "(6,)\n",
      "[1 2 3 4 5 6]\n"
     ]
    }
   ],
   "source": [
    "#배열 합치기\n",
    "array1 = np.array([1, 2, 3])\n",
    "array2 = np.array([4, 5, 6])\n",
    "array3 = np.concatenate([array1, array2]) #concatenate='연결시키다'\n",
    "\n",
    "print(array3.shape)\n",
    "print(array3)"
   ]
  },
  {
   "cell_type": "code",
   "execution_count": 41,
   "id": "e9e214d9",
   "metadata": {},
   "outputs": [
    {
     "name": "stdout",
     "output_type": "stream",
     "text": [
      "(2, 2)\n",
      "[[1 2]\n",
      " [3 4]]\n",
      "[[1 2]\n",
      " [3 4]]\n"
     ]
    }
   ],
   "source": [
    "#배열 형태 바꾸기\n",
    "array1 = np.array([1, 2, 3, 4])\n",
    "array2 = array1.reshape((2,2)) #위의 1차원을 2x2인 2차원 배열로 바꿔야 해서 [1,2],[3,4]\n",
    "array3 = np.array([[1,2],[3,4]]) #array2와 같은 결과\n",
    "\n",
    "print(array2.shape)\n",
    "print(array2)\n",
    "print(array3)"
   ]
  },
  {
   "cell_type": "code",
   "execution_count": null,
   "id": "3e101290",
   "metadata": {},
   "outputs": [],
   "source": []
  },
  {
   "cell_type": "code",
   "execution_count": 66,
   "id": "1d64293d",
   "metadata": {},
   "outputs": [
    {
     "name": "stdout",
     "output_type": "stream",
     "text": [
      "(3, 4)\n",
      "[[0 1 2 3]]\n",
      "[[0 1 2 3]\n",
      " [4 5 6 7]]\n",
      "[[0 1 2 3]\n",
      " [0 1 2 3]\n",
      " [4 5 6 7]]\n",
      "axis=  [ 6 22]\n"
     ]
    }
   ],
   "source": [
    "#배열 세로 축으로 합치기\n",
    "array1 = np.arange(4).reshape(1,4) # np.array[0,1,2,3].reshape(1,4)와 같은 결과\n",
    "array2 = np.arange(8).reshape(2,4)\n",
    "\n",
    "array3 = np.concatenate([array1, array2], axis=0)\n",
    "print(array3.shape)\n",
    "print(array1)\n",
    "print(array2)\n",
    "print(array3)\n",
    "print(\"axis= \", np.sum(array2, axis=1))"
   ]
  },
  {
   "cell_type": "code",
   "execution_count": 68,
   "id": "11805fd9",
   "metadata": {},
   "outputs": [
    {
     "name": "stdout",
     "output_type": "stream",
     "text": [
      "(3, 4)\n",
      "[[ 0  1  2  3]\n",
      " [ 4  5  6  7]\n",
      " [ 8  9 10 11]]\n",
      "axis= 0: [12 15 18 21]\n",
      "axis= -2: [12 15 18 21]\n",
      "axis= 1: [ 6 22 38]\n",
      "axis= -1:  [ 6 22 38]\n"
     ]
    }
   ],
   "source": [
    "#axis의 이해\n",
    "array1 = np.arange(12).reshape(3,4)\n",
    "print(array1.shape)\n",
    "print(array1)\n",
    "\n",
    "print(\"axis= 0:\", np.sum(array1, axis=0)) #0은 행. 행 축을 기준으로 더하라는 뜻으로 각 행에 있는 열의 값을 더해서 하나로 만들면 된다.\n",
    "print(\"axis= -2:\", np.sum(array1, axis=-2))\n",
    "print(\"axis= 1:\", np.sum(array1, axis=1))\n",
    "print(\"axis= -1: \", np.sum(array1, axis=-1))"
   ]
  },
  {
   "cell_type": "code",
   "execution_count": null,
   "id": "805d4f7d",
   "metadata": {},
   "outputs": [],
   "source": []
  },
  {
   "cell_type": "code",
   "execution_count": null,
   "id": "4259fc6d",
   "metadata": {},
   "outputs": [],
   "source": []
  },
  {
   "cell_type": "code",
   "execution_count": null,
   "id": "fc408376",
   "metadata": {},
   "outputs": [],
   "source": []
  },
  {
   "cell_type": "code",
   "execution_count": null,
   "id": "841175be",
   "metadata": {},
   "outputs": [],
   "source": []
  },
  {
   "cell_type": "code",
   "execution_count": null,
   "id": "137f5984",
   "metadata": {},
   "outputs": [],
   "source": []
  },
  {
   "cell_type": "code",
   "execution_count": null,
   "id": "648b6c85",
   "metadata": {},
   "outputs": [],
   "source": []
  },
  {
   "cell_type": "code",
   "execution_count": null,
   "id": "b096ab12",
   "metadata": {},
   "outputs": [],
   "source": []
  },
  {
   "cell_type": "code",
   "execution_count": null,
   "id": "f03ad840",
   "metadata": {},
   "outputs": [],
   "source": []
  },
  {
   "cell_type": "code",
   "execution_count": null,
   "id": "dd9bf37c",
   "metadata": {},
   "outputs": [],
   "source": []
  },
  {
   "cell_type": "code",
   "execution_count": 58,
   "id": "58f8b1b7",
   "metadata": {},
   "outputs": [
    {
     "name": "stdout",
     "output_type": "stream",
     "text": [
      "[[0 1]\n",
      " [4 5]]\n",
      "(2, 2)\n",
      "[[2 3]\n",
      " [6 7]]\n",
      "(2, 2)\n",
      "7\n",
      "[[0 1 2 3]\n",
      " [4 5 6 7]]\n"
     ]
    }
   ],
   "source": [
    "#배열 나누기\n",
    "array = np.array([0,1,2,3,4,5,6,7]).reshape(2,4)\n",
    "left, right = np.split(array, [2], axis=1) #[2]를 기준으로 세로로 왼쪽 오른쪽 자르는 듯..!(열 끼리의 연산..?)\n",
    "print(left)\n",
    "print(left.shape)\n",
    "print(right)\n",
    "print(right.shape)\n",
    "print(right[1][1])\n",
    "print(array)"
   ]
  },
  {
   "cell_type": "code",
   "execution_count": null,
   "id": "5330feb3",
   "metadata": {},
   "outputs": [],
   "source": []
  },
  {
   "cell_type": "code",
   "execution_count": null,
   "id": "ab91af5a",
   "metadata": {},
   "outputs": [],
   "source": []
  },
  {
   "cell_type": "code",
   "execution_count": 55,
   "id": "0fec7c71",
   "metadata": {},
   "outputs": [
    {
     "name": "stdout",
     "output_type": "stream",
     "text": [
      "[0 1]\n",
      "(2,)\n",
      "[2 3 4 5 6 7]\n",
      "(6,)\n",
      "[0 1 2 3 4 5 6 7]\n"
     ]
    }
   ],
   "source": [
    "#배열 나누기2\n",
    "array = np.array([0,1,2,3,4,5,6,7])\n",
    "left, right = np.split(array, [2], axis=0) #이렇게 하면 [2]를 기준으로 가로로 자름\n",
    "print(left)\n",
    "print(left.shape)\n",
    "print(right)\n",
    "print(right.shape)\n",
    "print(array)"
   ]
  },
  {
   "cell_type": "code",
   "execution_count": null,
   "id": "b4b24098",
   "metadata": {},
   "outputs": [],
   "source": []
  },
  {
   "cell_type": "code",
   "execution_count": null,
   "id": "54cd2260",
   "metadata": {},
   "outputs": [],
   "source": []
  },
  {
   "cell_type": "code",
   "execution_count": null,
   "id": "40cf3b41",
   "metadata": {},
   "outputs": [],
   "source": []
  },
  {
   "cell_type": "code",
   "execution_count": null,
   "id": "ed8cfc97",
   "metadata": {},
   "outputs": [],
   "source": []
  },
  {
   "cell_type": "code",
   "execution_count": null,
   "id": "0f990afc",
   "metadata": {},
   "outputs": [],
   "source": []
  },
  {
   "cell_type": "code",
   "execution_count": null,
   "id": "bf7e006d",
   "metadata": {},
   "outputs": [],
   "source": []
  },
  {
   "cell_type": "code",
   "execution_count": null,
   "id": "fade2cdd",
   "metadata": {},
   "outputs": [],
   "source": []
  },
  {
   "cell_type": "code",
   "execution_count": null,
   "id": "7479d4b1",
   "metadata": {},
   "outputs": [],
   "source": []
  },
  {
   "cell_type": "code",
   "execution_count": null,
   "id": "a3ef3be4",
   "metadata": {},
   "outputs": [],
   "source": []
  },
  {
   "cell_type": "code",
   "execution_count": null,
   "id": "7aaba912",
   "metadata": {},
   "outputs": [],
   "source": []
  },
  {
   "cell_type": "code",
   "execution_count": null,
   "id": "6eb84497",
   "metadata": {},
   "outputs": [],
   "source": []
  },
  {
   "cell_type": "code",
   "execution_count": null,
   "id": "17f89b72",
   "metadata": {},
   "outputs": [],
   "source": []
  },
  {
   "cell_type": "code",
   "execution_count": null,
   "id": "641da495",
   "metadata": {},
   "outputs": [],
   "source": []
  },
  {
   "cell_type": "code",
   "execution_count": null,
   "id": "aee1405e",
   "metadata": {},
   "outputs": [],
   "source": []
  },
  {
   "cell_type": "code",
   "execution_count": null,
   "id": "01d61b5d",
   "metadata": {},
   "outputs": [],
   "source": []
  },
  {
   "cell_type": "code",
   "execution_count": null,
   "id": "b09b0520",
   "metadata": {},
   "outputs": [],
   "source": []
  },
  {
   "cell_type": "code",
   "execution_count": null,
   "id": "dabb19a9",
   "metadata": {},
   "outputs": [],
   "source": []
  },
  {
   "cell_type": "code",
   "execution_count": null,
   "id": "d402c80c",
   "metadata": {},
   "outputs": [],
   "source": []
  },
  {
   "cell_type": "code",
   "execution_count": null,
   "id": "4c84efc7",
   "metadata": {},
   "outputs": [],
   "source": []
  },
  {
   "cell_type": "code",
   "execution_count": null,
   "id": "5e9581dc",
   "metadata": {},
   "outputs": [],
   "source": []
  },
  {
   "cell_type": "code",
   "execution_count": null,
   "id": "b9bedc94",
   "metadata": {},
   "outputs": [],
   "source": []
  },
  {
   "cell_type": "code",
   "execution_count": null,
   "id": "9345d236",
   "metadata": {},
   "outputs": [],
   "source": []
  },
  {
   "cell_type": "code",
   "execution_count": null,
   "id": "c1603893",
   "metadata": {},
   "outputs": [],
   "source": []
  },
  {
   "cell_type": "code",
   "execution_count": null,
   "id": "b82b1371",
   "metadata": {},
   "outputs": [],
   "source": []
  },
  {
   "cell_type": "code",
   "execution_count": null,
   "id": "59d7d0ae",
   "metadata": {},
   "outputs": [],
   "source": []
  },
  {
   "cell_type": "code",
   "execution_count": null,
   "id": "96060cbb",
   "metadata": {},
   "outputs": [],
   "source": []
  },
  {
   "cell_type": "code",
   "execution_count": null,
   "id": "18d5d8fc",
   "metadata": {},
   "outputs": [],
   "source": []
  },
  {
   "cell_type": "code",
   "execution_count": null,
   "id": "e8226d72",
   "metadata": {},
   "outputs": [],
   "source": []
  },
  {
   "cell_type": "code",
   "execution_count": null,
   "id": "0238b3de",
   "metadata": {},
   "outputs": [],
   "source": []
  }
 ],
 "metadata": {
  "kernelspec": {
   "display_name": "Python 3 (ipykernel)",
   "language": "python",
   "name": "python3"
  },
  "language_info": {
   "codemirror_mode": {
    "name": "ipython",
    "version": 3
   },
   "file_extension": ".py",
   "mimetype": "text/x-python",
   "name": "python",
   "nbconvert_exporter": "python",
   "pygments_lexer": "ipython3",
   "version": "3.9.7"
  }
 },
 "nbformat": 4,
 "nbformat_minor": 5
}
