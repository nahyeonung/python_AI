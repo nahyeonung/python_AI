{
 "cells": [
  {
   "cell_type": "code",
   "execution_count": 2,
   "id": "758405db",
   "metadata": {},
   "outputs": [
    {
     "name": "stdout",
     "output_type": "stream",
     "text": [
      "[0 1 2 3 4 5 6 7 8 9]\n"
     ]
    }
   ],
   "source": [
    "import numpy as np\n",
    "\n",
    "# 단일 객체 저장 및 불러오기\n",
    "array = np.arange(0,10)\n",
    "np.save('saved.npy', array) #saved라는 파일을 생성 후 array값을 저장\n",
    "\n",
    "result = np.load('saved.npy') #saved라는 파일을 불러오기\n",
    "print(result)"
   ]
  },
  {
   "cell_type": "code",
   "execution_count": 4,
   "id": "e3b2fec8",
   "metadata": {},
   "outputs": [
    {
     "name": "stdout",
     "output_type": "stream",
     "text": [
      "<numpy.lib.npyio.NpzFile object at 0x0000027B234337F0>\n",
      "[0 1 2 3 4 5 6 7 8 9]\n",
      "[10 11 12 13 14 15 16 17 18 19]\n"
     ]
    }
   ],
   "source": [
    "# 복수 객체 저장 및 불러오기\n",
    "array1 = np.arange(0,10)\n",
    "array2 = np.arange(10,20)\n",
    "np.savez('saved.npz', array1=array1, array2=array2) #savez는 복수 객체를 저장할 때 쓰는 함수\n",
    "\n",
    "data = np.load('saved.npz')\n",
    "print(data)\n",
    "result1 = data['array1']\n",
    "result2 = data['array2']\n",
    "print(result1)\n",
    "print(result2)"
   ]
  },
  {
   "cell_type": "code",
   "execution_count": 6,
   "id": "ac62fdb3",
   "metadata": {},
   "outputs": [
    {
     "name": "stdout",
     "output_type": "stream",
     "text": [
      "[1 2 3 3 4 4 5 5 5 5 6 8 8 8]\n",
      "[8 8 8 6 5 5 5 5 4 4 3 3 2 1]\n"
     ]
    }
   ],
   "source": [
    "#Numpy 원소 오름차순, 내림차순 정렬\n",
    "array = np.array([5,1,3,8,4,5,4,8,8,6,5,2,3,5])\n",
    "array.sort() #sort는 자동으로 오름차순으로 정렬\n",
    "print(array)\n",
    "print(array[::-1]) # 내림차순 정렬 방법"
   ]
  },
  {
   "cell_type": "code",
   "execution_count": 11,
   "id": "fc73b006",
   "metadata": {},
   "outputs": [
    {
     "name": "stdout",
     "output_type": "stream",
     "text": [
      "[ 0.   2.5  5.   7.5 10. ]\n",
      "[[4 9 6]\n",
      " [3 3 7]]\n"
     ]
    }
   ],
   "source": [
    "# 균일한 간격으로 데이터 생성\n",
    "array = np.linspace(0, 10, 5)\n",
    "print(array)\n",
    "\n",
    "# 랜덤 값을 실행마다 동일하게 설정(seed함수 사용)\n",
    "np.random.seed(7) #seed_value에 어떤 값이 들어가는 지는 중요하지 않다. 단지 seed_value값이 바뀌면 다른 유사난수를 생상하게 만든다만 기억\n",
    "print(np.random.randint(0, 10, (2,3)))"
   ]
  },
  {
   "cell_type": "code",
   "execution_count": 12,
   "id": "60da2ad2",
   "metadata": {},
   "outputs": [
    {
     "name": "stdout",
     "output_type": "stream",
     "text": [
      "[1 2 3 4 5 6 7]\n"
     ]
    }
   ],
   "source": [
    "# 중복된 원소 제거(unique함수 사용)\n",
    "array = np.array([1,1,2,2,3,3,3,3,4,4,4,5,5,6,7])\n",
    "print(np.unique(array))"
   ]
  },
  {
   "cell_type": "code",
   "execution_count": null,
   "id": "f196e5d6",
   "metadata": {},
   "outputs": [],
   "source": []
  },
  {
   "cell_type": "code",
   "execution_count": null,
   "id": "33949211",
   "metadata": {},
   "outputs": [],
   "source": []
  },
  {
   "cell_type": "code",
   "execution_count": null,
   "id": "38ef3712",
   "metadata": {},
   "outputs": [],
   "source": []
  },
  {
   "cell_type": "code",
   "execution_count": null,
   "id": "40c5f132",
   "metadata": {},
   "outputs": [],
   "source": []
  },
  {
   "cell_type": "code",
   "execution_count": null,
   "id": "c31f188f",
   "metadata": {},
   "outputs": [],
   "source": []
  },
  {
   "cell_type": "code",
   "execution_count": null,
   "id": "8957b2c8",
   "metadata": {},
   "outputs": [],
   "source": []
  },
  {
   "cell_type": "code",
   "execution_count": null,
   "id": "21f1f623",
   "metadata": {},
   "outputs": [],
   "source": []
  },
  {
   "cell_type": "code",
   "execution_count": null,
   "id": "ae2c0683",
   "metadata": {},
   "outputs": [],
   "source": []
  },
  {
   "cell_type": "code",
   "execution_count": null,
   "id": "7bfaeb44",
   "metadata": {},
   "outputs": [],
   "source": []
  }
 ],
 "metadata": {
  "kernelspec": {
   "display_name": "Python 3 (ipykernel)",
   "language": "python",
   "name": "python3"
  },
  "language_info": {
   "codemirror_mode": {
    "name": "ipython",
    "version": 3
   },
   "file_extension": ".py",
   "mimetype": "text/x-python",
   "name": "python",
   "nbconvert_exporter": "python",
   "pygments_lexer": "ipython3",
   "version": "3.9.7"
  }
 },
 "nbformat": 4,
 "nbformat_minor": 5
}
