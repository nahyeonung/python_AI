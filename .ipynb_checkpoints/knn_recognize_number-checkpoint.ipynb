{
 "cells": [
  {
   "cell_type": "code",
   "execution_count": 11,
   "id": "4203f31e",
   "metadata": {},
   "outputs": [
    {
     "name": "stdout",
     "output_type": "stream",
     "text": [
      "(50, 100, 20, 20)\n",
      "(5000, 400)\n",
      "(50000, 1)\n"
     ]
    }
   ],
   "source": [
    "import numpy as np\n",
    "import cv2 \n",
    "\n",
    "#불러오는 이미지는 한 줄에 100개씩 5줄씩 0~10까지 총 5000개의 숫자에 대한 글씨가 이미지에 들어간 것\n",
    "#20x20크기로 픽셀을 나누게 되면 총 5000개의 숫자를 나눌 수 있게 된다.\n",
    "image = cv2.imread(\"digits.png\")\n",
    "gray = cv2.cvtColor(image, cv2.COLOR_BGR2GRAY)\n",
    "\n",
    "# 세로로 50줄을 나눈 후, 그 것을 가지고 가로로 100줄을 나누는 문법\n",
    "cells = [np.hsplit(row, 100) for row in np.vsplit(gray,50)]\n",
    "x = np.array(cells)\n",
    "print(x.shape) #가로 50, 세로100줄로 나누어져서 크기가 20x20인 것까지 확인 가능하다.\n",
    "\n",
    "#각 (20x20) 크기의 사진을 한 줄(1x400)으로 바꾼다.\n",
    "train = x[:, :].reshape(-1, 400).astype(np.float32) #[:, :]는 처음부터 끝까지. 첫 번째 :는 수를 나타내고 두 번쨰 :는 차원을 나타냄\n",
    "print(train.shape)\n",
    "\n",
    "# 0이 500개, 1이 500개, ... 로 총 5,000개가 들어가는 (1x5000)배열을 만든다.\n",
    "k = np.arange(10)\n",
    "train_labels = np.repeat(k, 5000)[:, np.newaxis]\n",
    "print(train_labels.shape)\n",
    "\n",
    "np.savez(\"trained.npz\", train=train, train_labels=train_labels)"
   ]
  },
  {
   "cell_type": "code",
   "execution_count": 16,
   "id": "0b604bf9",
   "metadata": {},
   "outputs": [
    {
     "data": {
      "image/png": "[encoded data removed]",
      "text/plain": [
       "<Figure size 432x288 with 1 Axes>"
      ]
     },
     "metadata": {
      "needs_background": "light"
     },
     "output_type": "display_data"
    }
   ],
   "source": [
    "import matplotlib.pyplot as plt\n",
    "\n",
    "#다음과 같이 하나씩 글자를 출력할 수 있다.\n",
    "plt.imshow(cv2.cvtColor(x[0,0], cv2.COLOR_GRAY2RGB))\n",
    "plt.show()\n",
    "\n",
    "#다음과 같이 하나씩 글자를 저장할 수 있다.\n",
    "cv2.imwrite('test_0.png', x[0,0])\n",
    "cv2.imwrite('test_1.png', x[5,0])\n",
    "cv2.imwrite('test_2.png', x[10,0])\n",
    "cv2.imwrite('test_3.png', x[15,0])\n",
    "cv2.imwrite('test_4.png', x[20,0])\n",
    "cv2.imwrite('test_5.png', x[25,0])\n",
    "cv2.imwrite('test_6.png', x[30,0])\n",
    "cv2.imwrite('test_7.png', x[35,0])\n",
    "cv2.imwrite('test_8.png', x[40,0])\n",
    "cv2.imwrite('test_9.png', x[45,0])"
   ]
  },
  {
   "cell_type": "code",
   "execution_count": 20,
   "id": "f07d8e4f",
   "metadata": {},
   "outputs": [
    {
     "ename": "NameError",
     "evalue": "name 'glob' is not defined",
     "output_type": "error",
     "traceback": [
      "\u001b[1;31m---------------------------------------------------------------------------\u001b[0m",
      "\u001b[1;31mNameError\u001b[0m                                 Traceback (most recent call last)",
      "\u001b[1;32m~\\AppData\\Local\\Temp/ipykernel_12352/160991633.py\u001b[0m in \u001b[0;36m<module>\u001b[1;34m\u001b[0m\n\u001b[0;32m     25\u001b[0m \u001b[0mtrain\u001b[0m\u001b[1;33m,\u001b[0m \u001b[0mtrain_labels\u001b[0m \u001b[1;33m=\u001b[0m \u001b[0mload_train_data\u001b[0m\u001b[1;33m(\u001b[0m\u001b[0mFILE_NAME\u001b[0m\u001b[1;33m)\u001b[0m\u001b[1;33m\u001b[0m\u001b[1;33m\u001b[0m\u001b[0m\n\u001b[0;32m     26\u001b[0m \u001b[1;33m\u001b[0m\u001b[0m\n\u001b[1;32m---> 27\u001b[1;33m \u001b[1;32mfor\u001b[0m \u001b[0mfile_name\u001b[0m \u001b[1;32min\u001b[0m \u001b[0mglob\u001b[0m\u001b[1;33m.\u001b[0m\u001b[0mglob\u001b[0m\u001b[1;33m(\u001b[0m\u001b[1;34m'./test_*.png'\u001b[0m\u001b[1;33m)\u001b[0m\u001b[1;33m:\u001b[0m\u001b[1;33m\u001b[0m\u001b[1;33m\u001b[0m\u001b[0m\n\u001b[0m\u001b[0;32m     28\u001b[0m     \u001b[0mtest\u001b[0m \u001b[1;33m=\u001b[0m \u001b[0mresize20\u001b[0m\u001b[1;33m(\u001b[0m\u001b[0mfile_name\u001b[0m\u001b[1;33m)\u001b[0m\u001b[1;33m\u001b[0m\u001b[1;33m\u001b[0m\u001b[0m\n\u001b[0;32m     29\u001b[0m     \u001b[0mresult\u001b[0m \u001b[1;33m=\u001b[0m \u001b[0mchech\u001b[0m\u001b[1;33m(\u001b[0m\u001b[0mtest\u001b[0m\u001b[1;33m,\u001b[0m \u001b[0mtrain\u001b[0m\u001b[1;33m,\u001b[0m \u001b[0mtrain_labels\u001b[0m\u001b[1;33m)\u001b[0m\u001b[1;33m\u001b[0m\u001b[1;33m\u001b[0m\u001b[0m\n",
      "\u001b[1;31mNameError\u001b[0m: name 'glob' is not defined"
     ]
    }
   ],
   "source": [
    "FILE_NAME = 'trained.npz'\n",
    "\n",
    "#파일로부터 학습 데이터를 불러온다.\n",
    "def load_train_data(file_name):\n",
    "    with np.load(file_name) as data:\n",
    "        train = data['train']\n",
    "        train_labels = data['train_labels']\n",
    "    return train, train_labels\n",
    "\n",
    "# 손 글씨 이미지를 (20x20)크기로 Scaling한다.\n",
    "def resize20(image):\n",
    "    img = cv2.imread(image)\n",
    "    gray = cv2.cvtColor(img, cv2.COLOR_BGR2GRAY)\n",
    "    gray_resize = cv2.resize(gray, (20,20))\n",
    "    plt.imshow(cv2.cvtColor(gray_resize, cv2.COLOR_GRAY2RGB))\n",
    "    plt.show()\n",
    "    #최종적으로는 (1x400) 크기로 반환한다.\n",
    "    return gray_resize.reshape(-1,400).astype(np, float32)\n",
    "def check(test, train, train_labels):\n",
    "    knn = cv2.ml.KNearest_create()\n",
    "    knn.train(train, cv2.ml.ROW_SMAPLE, train_labels)\n",
    "    #가장 가까운 5개의 글자를 찾아, 어떤 숫자에 해당하는지 찾는다.\n",
    "    ret, result, neighbours, idst = knn.findNestreat(test, k=5)\n",
    "    return result\n",
    "train, train_labels = load_train_data(FILE_NAME)\n",
    "\n",
    "for file_name in glob.glob('./test_*.png'):\n",
    "    test = resize20(file_name)\n",
    "    result = chech(test, train, train_labels)\n",
    "    print(result)"
   ]
  },
  {
   "cell_type": "code",
   "execution_count": null,
   "id": "8cccd40a",
   "metadata": {},
   "outputs": [],
   "source": []
  },
  {
   "cell_type": "code",
   "execution_count": null,
   "id": "71913c02",
   "metadata": {},
   "outputs": [],
   "source": []
  },
  {
   "cell_type": "code",
   "execution_count": null,
   "id": "db291d40",
   "metadata": {},
   "outputs": [],
   "source": []
  },
  {
   "cell_type": "code",
   "execution_count": null,
   "id": "bd6ff05c",
   "metadata": {},
   "outputs": [],
   "source": []
  },
  {
   "cell_type": "code",
   "execution_count": null,
   "id": "d89f0318",
   "metadata": {},
   "outputs": [],
   "source": []
  },
  {
   "cell_type": "code",
   "execution_count": null,
   "id": "3ca72dce",
   "metadata": {},
   "outputs": [],
   "source": []
  },
  {
   "cell_type": "code",
   "execution_count": null,
   "id": "dfd51416",
   "metadata": {},
   "outputs": [],
   "source": []
  },
  {
   "cell_type": "code",
   "execution_count": null,
   "id": "f778d216",
   "metadata": {},
   "outputs": [],
   "source": []
  },
  {
   "cell_type": "code",
   "execution_count": null,
   "id": "8bd90bea",
   "metadata": {},
   "outputs": [],
   "source": []
  },
  {
   "cell_type": "code",
   "execution_count": null,
   "id": "65b59479",
   "metadata": {},
   "outputs": [],
   "source": []
  },
  {
   "cell_type": "code",
   "execution_count": null,
   "id": "c40bd02c",
   "metadata": {},
   "outputs": [],
   "source": []
  },
  {
   "cell_type": "code",
   "execution_count": null,
   "id": "e9bb5bde",
   "metadata": {},
   "outputs": [],
   "source": []
  },
  {
   "cell_type": "code",
   "execution_count": null,
   "id": "d0119719",
   "metadata": {},
   "outputs": [],
   "source": []
  },
  {
   "cell_type": "code",
   "execution_count": null,
   "id": "f89aa1c3",
   "metadata": {},
   "outputs": [],
   "source": []
  },
  {
   "cell_type": "code",
   "execution_count": null,
   "id": "255d7411",
   "metadata": {},
   "outputs": [],
   "source": []
  },
  {
   "cell_type": "code",
   "execution_count": null,
   "id": "456f8594",
   "metadata": {},
   "outputs": [],
   "source": []
  },
  {
   "cell_type": "code",
   "execution_count": null,
   "id": "01255008",
   "metadata": {},
   "outputs": [],
   "source": []
  },
  {
   "cell_type": "code",
   "execution_count": null,
   "id": "0371a814",
   "metadata": {},
   "outputs": [],
   "source": []
  },
  {
   "cell_type": "code",
   "execution_count": null,
   "id": "3aa4817c",
   "metadata": {},
   "outputs": [],
   "source": []
  },
  {
   "cell_type": "code",
   "execution_count": null,
   "id": "8b48f83d",
   "metadata": {},
   "outputs": [],
   "source": []
  }
 ],
 "metadata": {
  "kernelspec": {
   "display_name": "Python 3 (ipykernel)",
   "language": "python",
   "name": "python3"
  },
  "language_info": {
   "codemirror_mode": {
    "name": "ipython",
    "version": 3
   },
   "file_extension": ".py",
   "mimetype": "text/x-python",
   "name": "python",
   "nbconvert_exporter": "python",
   "pygments_lexer": "ipython3",
   "version": "3.9.7"
  }
 },
 "nbformat": 4,
 "nbformat_minor": 5
}
