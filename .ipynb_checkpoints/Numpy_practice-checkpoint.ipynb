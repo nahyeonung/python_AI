{
 "cells": [
  {
   "cell_type": "code",
   "execution_count": 4,
   "id": "31f86973",
   "metadata": {},
   "outputs": [
    {
     "name": "stdout",
     "output_type": "stream",
     "text": [
      "3\n",
      "int32\n",
      "3\n"
     ]
    }
   ],
   "source": [
    "import numpy as np\n",
    "\n",
    "#List를 Numpy로 바꾸기\n",
    "array = np.array([1,2,3])\n",
    "\n",
    "print(array.size) # 배열의 크기\n",
    "print(array.dtype) # 배열 원소의 타입\n",
    "print(array[2]) # 인덱스 2의 원소"
   ]
  },
  {
   "cell_type": "code",
   "execution_count": null,
   "id": "194ba62f",
   "metadata": {},
   "outputs": [],
   "source": []
  },
  {
   "cell_type": "code",
   "execution_count": 23,
   "id": "d8fae80d",
   "metadata": {},
   "outputs": [
    {
     "name": "stdout",
     "output_type": "stream",
     "text": [
      "[0 1 2 3]\n",
      "[[0. 0. 0. 0.]\n",
      " [0. 0. 0. 0.]\n",
      " [0. 0. 0. 0.]\n",
      " [0. 0. 0. 0.]]\n",
      "[['1' '1' '1']\n",
      " ['1' '1' '1']\n",
      " ['1' '1' '1']]\n",
      "[[1 5 6]\n",
      " [0 4 9]\n",
      " [8 6 0]]\n",
      "[[ 0.55292935  1.59372082  0.80854621]\n",
      " [-0.40735162 -0.70719287  1.74024322]\n",
      " [ 0.81041475 -0.62347269  1.55485692]]\n"
     ]
    }
   ],
   "source": [
    "#Numpy 배열 초기화\n",
    "\n",
    "#0부터 3까지의 배열 만들기\n",
    "array1 = np.arange(4) \n",
    "array2 = np.zeros((4, 4), dtype=float) # 0으로 초기화(2차원 배열을 위해 4,4를 넣음)\n",
    "array3 = np.ones((3, 3), dtype=str) # 1로 초기화\n",
    "#0부터 9까지 랜덤하게 초기화 된 배열 만들기\n",
    "array4 = np.random.randint(0, 10, (3, 3)) #0~9까지 3x3배열\n",
    "#평균이 0이고 표준편차가 1인 표준 정규를 띄는 배열\n",
    "array5 = np.random.normal(0, 1, (3, 3))\n",
    "print(array1)\n",
    "print(array2)\n",
    "print(array3)\n",
    "print(array4)\n",
    "print(array5)"
   ]
  },
  {
   "cell_type": "code",
   "execution_count": 24,
   "id": "eb6965d3",
   "metadata": {},
   "outputs": [
    {
     "name": "stdout",
     "output_type": "stream",
     "text": [
      "(6,)\n",
      "[1 2 3 4 5 6]\n"
     ]
    }
   ],
   "source": [
    "#배열 합치기\n",
    "array1 = np.array([1, 2, 3])\n",
    "array2 = np.array([4, 5, 6])\n",
    "array3 = np.concatenate([array1, array2]) #concatenate='연결시키다'\n",
    "\n",
    "print(array3.shape)\n",
    "print(array3)"
   ]
  },
  {
   "cell_type": "code",
   "execution_count": 41,
   "id": "e9e214d9",
   "metadata": {},
   "outputs": [
    {
     "name": "stdout",
     "output_type": "stream",
     "text": [
      "(2, 2)\n",
      "[[1 2]\n",
      " [3 4]]\n",
      "[[1 2]\n",
      " [3 4]]\n"
     ]
    }
   ],
   "source": [
    "#배열 형태 바꾸기\n",
    "array1 = np.array([1, 2, 3, 4])\n",
    "array2 = array1.reshape((2,2)) #위의 1차원을 2x2인 2차원 배열로 바꿔야 해서 [1,2],[3,4]\n",
    "array3 = np.array([[1,2],[3,4]]) #array2와 같은 결과\n",
    "\n",
    "print(array2.shape)\n",
    "print(array2)\n",
    "print(array3)"
   ]
  },
  {
   "cell_type": "code",
   "execution_count": null,
   "id": "3e101290",
   "metadata": {},
   "outputs": [],
   "source": []
  },
  {
   "cell_type": "code",
   "execution_count": 66,
   "id": "1d64293d",
   "metadata": {},
   "outputs": [
    {
     "name": "stdout",
     "output_type": "stream",
     "text": [
      "(3, 4)\n",
      "[[0 1 2 3]]\n",
      "[[0 1 2 3]\n",
      " [4 5 6 7]]\n",
      "[[0 1 2 3]\n",
      " [0 1 2 3]\n",
      " [4 5 6 7]]\n",
      "axis=  [ 6 22]\n"
     ]
    }
   ],
   "source": [
    "#배열 세로 축으로 합치기\n",
    "array1 = np.arange(4).reshape(1,4) # np.array[0,1,2,3].reshape(1,4)와 같은 결과\n",
    "array2 = np.arange(8).reshape(2,4)\n",
    "\n",
    "array3 = np.concatenate([array1, array2], axis=0)\n",
    "print(array3.shape)\n",
    "print(array1)\n",
    "print(array2)\n",
    "print(array3)\n",
    "print(\"axis= \", np.sum(array2, axis=1))"
   ]
  },
  {
   "cell_type": "code",
   "execution_count": 68,
   "id": "11805fd9",
   "metadata": {},
   "outputs": [
    {
     "name": "stdout",
     "output_type": "stream",
     "text": [
      "(3, 4)\n",
      "[[ 0  1  2  3]\n",
      " [ 4  5  6  7]\n",
      " [ 8  9 10 11]]\n",
      "axis= 0: [12 15 18 21]\n",
      "axis= -2: [12 15 18 21]\n",
      "axis= 1: [ 6 22 38]\n",
      "axis= -1:  [ 6 22 38]\n"
     ]
    }
   ],
   "source": [
    "#axis의 이해\n",
    "array1 = np.arange(12).reshape(3,4)\n",
    "print(array1.shape)\n",
    "print(array1)\n",
    "\n",
    "print(\"axis= 0:\", np.sum(array1, axis=0)) #0은 행. 행 축을 기준으로 더하라는 뜻으로 각 행에 있는 열의 값을 더해서 하나로 만들면 된다.\n",
    "print(\"axis= -2:\", np.sum(array1, axis=-2))\n",
    "print(\"axis= 1:\", np.sum(array1, axis=1))\n",
    "print(\"axis= -1: \", np.sum(array1, axis=-1))"
   ]
  },
  {
   "cell_type": "code",
   "execution_count": 58,
   "id": "58f8b1b7",
   "metadata": {},
   "outputs": [
    {
     "name": "stdout",
     "output_type": "stream",
     "text": [
      "[[0 1]\n",
      " [4 5]]\n",
      "(2, 2)\n",
      "[[2 3]\n",
      " [6 7]]\n",
      "(2, 2)\n",
      "7\n",
      "[[0 1 2 3]\n",
      " [4 5 6 7]]\n"
     ]
    }
   ],
   "source": [
    "#배열 나누기\n",
    "array = np.array([0,1,2,3,4,5,6,7]).reshape(2,4)\n",
    "left, right = np.split(array, [2], axis=1) #[2]를 기준으로 세로로 왼쪽 오른쪽 자르는 듯..!(열 끼리의 연산..?)\n",
    "print(left)\n",
    "print(left.shape)\n",
    "print(right)\n",
    "print(right.shape)\n",
    "print(right[1][1])\n",
    "print(array)"
   ]
  },
  {
   "cell_type": "code",
   "execution_count": 55,
   "id": "0fec7c71",
   "metadata": {},
   "outputs": [
    {
     "name": "stdout",
     "output_type": "stream",
     "text": [
      "[0 1]\n",
      "(2,)\n",
      "[2 3 4 5 6 7]\n",
      "(6,)\n",
      "[0 1 2 3 4 5 6 7]\n"
     ]
    }
   ],
   "source": [
    "#배열 나누기2\n",
    "array = np.array([0,1,2,3,4,5,6,7])\n",
    "left, right = np.split(array, [2], axis=0) #이렇게 하면 [2]를 기준으로 가로로 자름\n",
    "print(left)\n",
    "print(left.shape)\n",
    "print(right)\n",
    "print(right.shape)\n",
    "print(array)"
   ]
  },
  {
   "cell_type": "code",
   "execution_count": 11,
   "id": "b4b24098",
   "metadata": {},
   "outputs": [
    {
     "name": "stdout",
     "output_type": "stream",
     "text": [
      "[[6 9]\n",
      " [8 7]]\n",
      "[[60 90]\n",
      " [80 70]]\n"
     ]
    }
   ],
   "source": [
    "#Numpy 연산(예를 곱셈으로 들었지만 연산은 모두 이와 같은 원리이다.)\n",
    "array = np.random.randint(1,10,(2,2))\n",
    "result_array = array * 10\n",
    "print(array)\n",
    "print(result_array)"
   ]
  },
  {
   "cell_type": "code",
   "execution_count": 12,
   "id": "64b4aa93",
   "metadata": {},
   "outputs": [
    {
     "name": "stdout",
     "output_type": "stream",
     "text": [
      "[[0 2]\n",
      " [2 4]]\n"
     ]
    }
   ],
   "source": [
    "#서로 다른 형태의 Numpy연산(행을 추가하는 경우)\n",
    "array1 = np.arange(4).reshape(2,2) # (2x2)\n",
    "array2 = np.arange(2) # (1x2)\n",
    "\n",
    "array3 = array1 + array2\n",
    "\n",
    "print(array3)"
   ]
  },
  {
   "cell_type": "code",
   "execution_count": 13,
   "id": "df679b6d",
   "metadata": {},
   "outputs": [
    {
     "name": "stdout",
     "output_type": "stream",
     "text": [
      "[[0 1]\n",
      " [2 3]\n",
      " [0 1]\n",
      " [2 3]]\n",
      "[[0]\n",
      " [1]\n",
      " [2]\n",
      " [3]]\n",
      "[[0 1]\n",
      " [3 4]\n",
      " [2 3]\n",
      " [5 6]]\n"
     ]
    }
   ],
   "source": [
    "#서로 다른 형태의 Numpy연산(열을 추가하는 경우)\n",
    "array1 = np.arange(4).reshape(2,2)\n",
    "array2 = np.arange(4).reshape(2,2)\n",
    "array3 = np.concatenate([array1, array2], axis=0) # (4x2)\n",
    "array4 = np.arange(0,4).reshape(4,1) # (4x1)\n",
    "\n",
    "print(array3)\n",
    "print(array4)\n",
    "print(array3 + array4)"
   ]
  },
  {
   "cell_type": "code",
   "execution_count": 16,
   "id": "ef4e4506",
   "metadata": {},
   "outputs": [
    {
     "name": "stdout",
     "output_type": "stream",
     "text": [
      "[[ 0  1  2  3]\n",
      " [ 4  5  6  7]\n",
      " [ 8  9 10 11]\n",
      " [12 13 14 15]]\n",
      "[[ True  True  True  True]\n",
      " [ True  True  True  True]\n",
      " [ True  True False False]\n",
      " [False False False False]]\n",
      "[[100 100 100 100]\n",
      " [100 100 100 100]\n",
      " [100 100  10  11]\n",
      " [ 12  13  14  15]]\n"
     ]
    }
   ],
   "source": [
    "#마스킹 연산\n",
    "array1 = np.arange(16).reshape(4,4)\n",
    "print(array1)\n",
    "\n",
    "array2 = array1 < 10\n",
    "print(array2)\n",
    "\n",
    "#마스킹 연산의 응용\n",
    "array1[array2] = 100 #array1중에서 10보다 작은 값만 값을 100으로 바꿔줄 수 있다.\n",
    "print(array1)"
   ]
  },
  {
   "cell_type": "code",
   "execution_count": 17,
   "id": "76527daa",
   "metadata": {},
   "outputs": [
    {
     "name": "stdout",
     "output_type": "stream",
     "text": [
      "최대값:  15\n",
      "최소값:  0\n",
      "합계:  120\n",
      "평균값:  7.5\n"
     ]
    }
   ],
   "source": [
    "#최대, 최소, 합계 평균값\n",
    "array1 = np.arange(16).reshape(4,4)\n",
    "\n",
    "print(\"최대값: \", np.max(array1))\n",
    "print(\"최소값: \", np.min(array1))\n",
    "print(\"합계: \", np.sum(array1))\n",
    "print(\"평균값: \", np.mean(array1))"
   ]
  },
  {
   "cell_type": "code",
   "execution_count": null,
   "id": "077d5b61",
   "metadata": {},
   "outputs": [],
   "source": []
  },
  {
   "cell_type": "code",
   "execution_count": null,
   "id": "20b8b3f8",
   "metadata": {},
   "outputs": [],
   "source": []
  },
  {
   "cell_type": "code",
   "execution_count": null,
   "id": "33e8da24",
   "metadata": {},
   "outputs": [],
   "source": []
  }
 ],
 "metadata": {
  "kernelspec": {
   "display_name": "Python 3 (ipykernel)",
   "language": "python",
   "name": "python3"
  },
  "language_info": {
   "codemirror_mode": {
    "name": "ipython",
    "version": 3
   },
   "file_extension": ".py",
   "mimetype": "text/x-python",
   "name": "python",
   "nbconvert_exporter": "python",
   "pygments_lexer": "ipython3",
   "version": "3.9.7"
  }
 },
 "nbformat": 4,
 "nbformat_minor": 5
}
