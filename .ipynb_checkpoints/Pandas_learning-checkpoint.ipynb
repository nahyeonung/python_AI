{
 "cells": [
  {
   "cell_type": "code",
   "execution_count": 34,
   "id": "4380f120",
   "metadata": {},
   "outputs": [
    {
     "name": "stdout",
     "output_type": "stream",
     "text": [
      "           word  frequency  importance\n",
      "apple        사과        3.0           5\n",
      "banana      바나나        5.0           4\n",
      "grape        포도        NaN           3\n",
      "strawberry   딸기        NaN           2\n",
      "            word  frequency  importance\n",
      "apple       True       True        True\n",
      "banana      True       True        True\n",
      "grape       True      False        True\n",
      "strawberry  True      False        True\n",
      "             word  frequency  importance\n",
      "apple       False      False       False\n",
      "banana      False      False       False\n",
      "grape       False       True       False\n",
      "strawberry  False       True       False\n",
      "           word frequency  importance\n",
      "apple        사과       3.0           5\n",
      "banana      바나나       5.0           4\n",
      "grape        포도    데이터 없음           3\n",
      "strawberry   딸기    데이터 없음           2\n",
      "           word frequency  importance\n",
      "strawberry   딸기    데이터 없음           2\n",
      "grape        포도    데이터 없음           3\n",
      "banana      바나나       5.0           4\n",
      "apple        사과       3.0           5\n"
     ]
    }
   ],
   "source": [
    "import pandas as pd\n",
    "import numpy as np\n",
    "\n",
    "word_dict = {\n",
    "    'apple': '사과',\n",
    "    'banana' : '바나나',\n",
    "    'grape' : '포도',\n",
    "    'strawberry' : '딸기'\n",
    "}\n",
    "\n",
    "frequency_dict = {\n",
    "    'apple' : 3,\n",
    "    'banana' : 5,\n",
    "    'grape' : np.nan, # nan은 not a number로 null과 같은 의미\n",
    "    'strawberry' : None\n",
    "}\n",
    "\n",
    "importance_dict = {\n",
    "    'apple' : 5,\n",
    "    'banana' : 4,\n",
    "    'grape' : 3,\n",
    "    'strawberry' : 2\n",
    "}\n",
    "\n",
    "word = pd.Series(word_dict)\n",
    "frequency = pd.Series(frequency_dict)\n",
    "importance = pd.Series(importance_dict)\n",
    "\n",
    "summary = pd.DataFrame({\n",
    "    'word': word,\n",
    "    'frequency': frequency,\n",
    "    'importance' : importance\n",
    "})\n",
    "\n",
    "print(summary)\n",
    "print(summary.notnull()) #notnull()은 null값이 아닌 값들을 true로 보여줌\n",
    "print(summary.isnull()) #isnull()은 notnull()의 반대\n",
    "summary = summary.fillna('데이터 없음') #fillna()함수는 nan값을 가지는 것들을 특정 문자로 처리해주는 함수.\n",
    "print(summary)\n",
    "summary = summary.sort_values('importance', ascending=True) #sort_value를 사용하여 오름차순으로 정렬(내림차순은 False)\n",
    "print(summary)"
   ]
  },
  {
   "cell_type": "code",
   "execution_count": 25,
   "id": "3f881d5e",
   "metadata": {},
   "outputs": [
    {
     "name": "stdout",
     "output_type": "stream",
     "text": [
      "A    1.0\n",
      "B    7.0\n",
      "C    6.0\n",
      "F    1.0\n",
      "dtype: float64\n",
      "A    NaN\n",
      "B    7.0\n",
      "C    6.0\n",
      "F    NaN\n",
      "dtype: float64\n",
      "     0    1    2\n",
      "A  1.0  2.0  NaN\n",
      "B  4.0  6.0  3.0\n",
      "C  4.0  5.0  6.0\n",
      "D  7.0  8.0  9.0\n"
     ]
    }
   ],
   "source": [
    "#시리즈 자료형의 연산\n",
    "import pandas as pd\n",
    "\n",
    "array1 = pd.Series([1,2,3], index=['A','B','C'])\n",
    "array2 = pd.Series([5,3,1], index=['B','C','F'])\n",
    "\n",
    "array3 = array1.add(array2, fill_value=0)# 겹치지 않아서 한 쪽에는 없는 index의 값은 그냥 0으로 인식하고 계산\n",
    "print(array3)\n",
    "\n",
    "array4 = array1 + array2 #기본 연산으로 더하면 겹치지 않는 index들의 값은 nan처리 됨.\n",
    "print(array4)\n",
    "\n",
    "a = pd.DataFrame([[1,2],[3,4]], index=['A','B'])\n",
    "b = pd.DataFrame([[1,2,3],[4,5,6,],[7,8,9]], index=['B','C','D'])\n",
    "c = a.add(b, fill_value=0) # 둘 다 겹치지 않는 2차원의 A값은 nan으로 삽입.\n",
    "print(c)"
   ]
  },
  {
   "cell_type": "code",
   "execution_count": 48,
   "id": "4a89e078",
   "metadata": {},
   "outputs": [
    {
     "name": "stdout",
     "output_type": "stream",
     "text": [
      "   A  B\n",
      "0  1  2\n",
      "1  3  4\n",
      "0    True\n",
      "1    True\n",
      "Name: A, dtype: bool\n",
      "   A  B\n",
      "1  3  4\n"
     ]
    }
   ],
   "source": [
    "#데이터 프레임의 마스킹(데이터 프레임은 데이터베이스의 쿼리문과 비슷)\n",
    "\n",
    "import pandas as pd\n",
    "\n",
    "df = pd.DataFrame([[1,2],[3,4]], index=['0','1'], columns=['A','B'])\n",
    "print(df)\n",
    "# 컬럼 A의 각 원소가 3보다 작거나 같은지 출력\n",
    "print(df[\"A\"] <= 3)\n",
    "# 컬럼 A의 각 원소가 3인 df쿼리 출력(그냥 df나 df의 쿼리문이나 거의 같음)\n",
    "print(df.query(\"A == 3\"))"
   ]
  },
  {
   "cell_type": "code",
   "execution_count": 63,
   "id": "e85e1960",
   "metadata": {},
   "outputs": [
    {
     "name": "stdout",
     "output_type": "stream",
     "text": [
      "   A  B  C  D\n",
      "0  1  2  3  4\n",
      "1  1  2  3  4\n",
      "   A  B  C  D\n",
      "0  2  3  4  5\n",
      "1  2  3  4  5\n",
      "   A  B  C  D\n",
      "0  3  4  5  6\n",
      "1  3  4  5  6\n"
     ]
    }
   ],
   "source": [
    "df = pd.DataFrame([[1,2,3,4],[1,2,3,4]], index=[0,1], columns=['A','B','C','D'])\n",
    "print(df)\n",
    "\n",
    "df = df.apply(lambda x: x + 1) #모든 값에 1을 더함\n",
    "print(df)\n",
    "\n",
    "def addx(x): # 1을 더하는 함수 만들기\n",
    "    return x + 1\n",
    "\n",
    "print(addx(df))"
   ]
  },
  {
   "cell_type": "code",
   "execution_count": 71,
   "id": "dd8e7962",
   "metadata": {},
   "outputs": [
    {
     "name": "stdout",
     "output_type": "stream",
     "text": [
      "   스터디   대전\n",
      "0  나현웅  김규택\n",
      "1  김기혁  손주형\n",
      "2  박기수  임성진\n",
      "   스터디   대전\n",
      "0  나현웅  김규택\n",
      "1  이준혁  손주형\n",
      "2  박기수  임성진\n"
     ]
    }
   ],
   "source": [
    "df = pd.DataFrame([['나현웅','김규택'],['김기혁','손주형'],['박기수','임성진']], index=[0,1,2], columns=['스터디','대전'])\n",
    "print(df)\n",
    "df = df.replace({'김기혁':'이준혁'})\n",
    "print(df)"
   ]
  },
  {
   "cell_type": "code",
   "execution_count": 107,
   "id": "12717251",
   "metadata": {},
   "outputs": [
    {
     "name": "stdout",
     "output_type": "stream",
     "text": [
      "    이름        학번    소속\n",
      "0  나현웅  20170636   스터디\n",
      "1  김기혁  20170699   스터디\n",
      "2  김규택  20170633  일반재학\n",
      "3  손주형  20170133    휴학\n",
      "    이름        학번   소속\n",
      "0  나현웅  20170636  스터디\n",
      "1  김기혁  20170699  스터디\n"
     ]
    }
   ],
   "source": [
    "df = pd.DataFrame([['나현웅',20170636,'스터디'],\n",
    "                  ['김기혁',20170699,'스터디'],\n",
    "                  ['김규택',20170633,'일반재학'],\n",
    "                  ['손주형',20170133,'휴학']], index=[0,1,2,3], columns=['이름','학번','소속'])\n",
    "print(df)\n",
    "\n",
    "# 소속이 스터디인 학생만 출력\n",
    "df = df[df['소속'] == '스터디']\n",
    "print(df)"
   ]
  },
  {
   "cell_type": "code",
   "execution_count": null,
   "id": "ab7493e5",
   "metadata": {},
   "outputs": [],
   "source": []
  },
  {
   "cell_type": "code",
   "execution_count": null,
   "id": "adb5a006",
   "metadata": {},
   "outputs": [],
   "source": []
  },
  {
   "cell_type": "code",
   "execution_count": null,
   "id": "e10a0bd0",
   "metadata": {},
   "outputs": [],
   "source": []
  },
  {
   "cell_type": "code",
   "execution_count": null,
   "id": "04595bae",
   "metadata": {},
   "outputs": [],
   "source": []
  },
  {
   "cell_type": "code",
   "execution_count": null,
   "id": "0e80c3a4",
   "metadata": {},
   "outputs": [],
   "source": []
  },
  {
   "cell_type": "code",
   "execution_count": null,
   "id": "ec9fd36d",
   "metadata": {},
   "outputs": [],
   "source": []
  },
  {
   "cell_type": "code",
   "execution_count": null,
   "id": "134a9257",
   "metadata": {},
   "outputs": [],
   "source": []
  },
  {
   "cell_type": "code",
   "execution_count": null,
   "id": "8f7c4335",
   "metadata": {},
   "outputs": [],
   "source": []
  },
  {
   "cell_type": "code",
   "execution_count": null,
   "id": "a713d388",
   "metadata": {},
   "outputs": [],
   "source": []
  },
  {
   "cell_type": "code",
   "execution_count": null,
   "id": "0a9ddce0",
   "metadata": {},
   "outputs": [],
   "source": []
  },
  {
   "cell_type": "code",
   "execution_count": null,
   "id": "9eb0dc4e",
   "metadata": {},
   "outputs": [],
   "source": []
  },
  {
   "cell_type": "code",
   "execution_count": null,
   "id": "d0841ae1",
   "metadata": {},
   "outputs": [],
   "source": []
  },
  {
   "cell_type": "code",
   "execution_count": null,
   "id": "9b313e0c",
   "metadata": {},
   "outputs": [],
   "source": []
  },
  {
   "cell_type": "code",
   "execution_count": null,
   "id": "eb061ea0",
   "metadata": {},
   "outputs": [],
   "source": []
  },
  {
   "cell_type": "code",
   "execution_count": null,
   "id": "0a17ea4e",
   "metadata": {},
   "outputs": [],
   "source": []
  },
  {
   "cell_type": "code",
   "execution_count": null,
   "id": "b5d77f9b",
   "metadata": {},
   "outputs": [],
   "source": []
  },
  {
   "cell_type": "code",
   "execution_count": null,
   "id": "ca3d80b7",
   "metadata": {},
   "outputs": [],
   "source": []
  },
  {
   "cell_type": "code",
   "execution_count": null,
   "id": "e465376a",
   "metadata": {},
   "outputs": [],
   "source": []
  },
  {
   "cell_type": "code",
   "execution_count": null,
   "id": "b6158c1f",
   "metadata": {},
   "outputs": [],
   "source": []
  },
  {
   "cell_type": "code",
   "execution_count": null,
   "id": "bbb6c566",
   "metadata": {},
   "outputs": [],
   "source": []
  },
  {
   "cell_type": "code",
   "execution_count": null,
   "id": "5a908e9c",
   "metadata": {},
   "outputs": [],
   "source": []
  },
  {
   "cell_type": "code",
   "execution_count": null,
   "id": "be34b4e1",
   "metadata": {},
   "outputs": [],
   "source": []
  },
  {
   "cell_type": "code",
   "execution_count": null,
   "id": "04ab3575",
   "metadata": {},
   "outputs": [],
   "source": []
  },
  {
   "cell_type": "code",
   "execution_count": null,
   "id": "cdc220c3",
   "metadata": {},
   "outputs": [],
   "source": []
  },
  {
   "cell_type": "code",
   "execution_count": null,
   "id": "aff553ce",
   "metadata": {},
   "outputs": [],
   "source": []
  },
  {
   "cell_type": "code",
   "execution_count": null,
   "id": "940d8878",
   "metadata": {},
   "outputs": [],
   "source": []
  },
  {
   "cell_type": "code",
   "execution_count": null,
   "id": "ae50a05b",
   "metadata": {},
   "outputs": [],
   "source": []
  },
  {
   "cell_type": "code",
   "execution_count": null,
   "id": "f9e7f575",
   "metadata": {},
   "outputs": [],
   "source": []
  },
  {
   "cell_type": "code",
   "execution_count": null,
   "id": "294033ca",
   "metadata": {},
   "outputs": [],
   "source": []
  },
  {
   "cell_type": "code",
   "execution_count": null,
   "id": "7ed62be0",
   "metadata": {},
   "outputs": [],
   "source": []
  },
  {
   "cell_type": "code",
   "execution_count": null,
   "id": "fe0fc8fc",
   "metadata": {},
   "outputs": [],
   "source": []
  },
  {
   "cell_type": "code",
   "execution_count": null,
   "id": "588927f2",
   "metadata": {},
   "outputs": [],
   "source": []
  },
  {
   "cell_type": "code",
   "execution_count": null,
   "id": "f85c631e",
   "metadata": {},
   "outputs": [],
   "source": []
  },
  {
   "cell_type": "code",
   "execution_count": null,
   "id": "0fe7e217",
   "metadata": {},
   "outputs": [],
   "source": []
  },
  {
   "cell_type": "code",
   "execution_count": null,
   "id": "382da206",
   "metadata": {},
   "outputs": [],
   "source": []
  },
  {
   "cell_type": "code",
   "execution_count": null,
   "id": "690ff918",
   "metadata": {},
   "outputs": [],
   "source": []
  },
  {
   "cell_type": "code",
   "execution_count": null,
   "id": "00a65264",
   "metadata": {},
   "outputs": [],
   "source": []
  },
  {
   "cell_type": "code",
   "execution_count": null,
   "id": "33bd856e",
   "metadata": {},
   "outputs": [],
   "source": []
  },
  {
   "cell_type": "code",
   "execution_count": null,
   "id": "2495cda5",
   "metadata": {},
   "outputs": [],
   "source": []
  },
  {
   "cell_type": "code",
   "execution_count": null,
   "id": "809c2c37",
   "metadata": {},
   "outputs": [],
   "source": []
  },
  {
   "cell_type": "code",
   "execution_count": null,
   "id": "590465cb",
   "metadata": {},
   "outputs": [],
   "source": []
  },
  {
   "cell_type": "code",
   "execution_count": null,
   "id": "2d508a98",
   "metadata": {},
   "outputs": [],
   "source": []
  },
  {
   "cell_type": "code",
   "execution_count": null,
   "id": "395c9a34",
   "metadata": {},
   "outputs": [],
   "source": []
  },
  {
   "cell_type": "code",
   "execution_count": null,
   "id": "4c2ae721",
   "metadata": {},
   "outputs": [],
   "source": []
  },
  {
   "cell_type": "code",
   "execution_count": null,
   "id": "d4bb95e9",
   "metadata": {},
   "outputs": [],
   "source": []
  },
  {
   "cell_type": "code",
   "execution_count": null,
   "id": "4c9012b4",
   "metadata": {},
   "outputs": [],
   "source": []
  },
  {
   "cell_type": "code",
   "execution_count": null,
   "id": "b5a8b96e",
   "metadata": {},
   "outputs": [],
   "source": []
  },
  {
   "cell_type": "code",
   "execution_count": null,
   "id": "a926b9b7",
   "metadata": {},
   "outputs": [],
   "source": []
  },
  {
   "cell_type": "code",
   "execution_count": null,
   "id": "1645e2a4",
   "metadata": {},
   "outputs": [],
   "source": []
  },
  {
   "cell_type": "code",
   "execution_count": null,
   "id": "55823598",
   "metadata": {},
   "outputs": [],
   "source": []
  },
  {
   "cell_type": "code",
   "execution_count": null,
   "id": "f58a70ec",
   "metadata": {},
   "outputs": [],
   "source": []
  },
  {
   "cell_type": "code",
   "execution_count": null,
   "id": "abbb3fec",
   "metadata": {},
   "outputs": [],
   "source": []
  },
  {
   "cell_type": "code",
   "execution_count": null,
   "id": "25f36894",
   "metadata": {},
   "outputs": [],
   "source": []
  },
  {
   "cell_type": "code",
   "execution_count": null,
   "id": "a14425d7",
   "metadata": {},
   "outputs": [],
   "source": []
  },
  {
   "cell_type": "code",
   "execution_count": null,
   "id": "6a3b7742",
   "metadata": {},
   "outputs": [],
   "source": []
  },
  {
   "cell_type": "code",
   "execution_count": null,
   "id": "1acb46c7",
   "metadata": {},
   "outputs": [],
   "source": []
  },
  {
   "cell_type": "code",
   "execution_count": null,
   "id": "d8aa098c",
   "metadata": {},
   "outputs": [],
   "source": []
  },
  {
   "cell_type": "code",
   "execution_count": null,
   "id": "fd8ed06b",
   "metadata": {},
   "outputs": [],
   "source": []
  },
  {
   "cell_type": "code",
   "execution_count": null,
   "id": "a7b7c604",
   "metadata": {},
   "outputs": [],
   "source": []
  },
  {
   "cell_type": "code",
   "execution_count": null,
   "id": "26e1ad96",
   "metadata": {},
   "outputs": [],
   "source": []
  },
  {
   "cell_type": "code",
   "execution_count": null,
   "id": "d294fefb",
   "metadata": {},
   "outputs": [],
   "source": []
  },
  {
   "cell_type": "code",
   "execution_count": null,
   "id": "bbb10a9e",
   "metadata": {},
   "outputs": [],
   "source": []
  },
  {
   "cell_type": "code",
   "execution_count": null,
   "id": "96a24143",
   "metadata": {},
   "outputs": [],
   "source": []
  },
  {
   "cell_type": "code",
   "execution_count": null,
   "id": "022c061c",
   "metadata": {},
   "outputs": [],
   "source": []
  },
  {
   "cell_type": "code",
   "execution_count": null,
   "id": "65d3f188",
   "metadata": {},
   "outputs": [],
   "source": []
  },
  {
   "cell_type": "code",
   "execution_count": null,
   "id": "f01a6dbc",
   "metadata": {},
   "outputs": [],
   "source": []
  },
  {
   "cell_type": "code",
   "execution_count": null,
   "id": "ec39f713",
   "metadata": {},
   "outputs": [],
   "source": []
  },
  {
   "cell_type": "code",
   "execution_count": null,
   "id": "6d97bc29",
   "metadata": {},
   "outputs": [],
   "source": []
  },
  {
   "cell_type": "code",
   "execution_count": null,
   "id": "db11b4d8",
   "metadata": {},
   "outputs": [],
   "source": []
  },
  {
   "cell_type": "code",
   "execution_count": null,
   "id": "ff187b78",
   "metadata": {},
   "outputs": [],
   "source": []
  },
  {
   "cell_type": "code",
   "execution_count": null,
   "id": "5be376dd",
   "metadata": {},
   "outputs": [],
   "source": []
  },
  {
   "cell_type": "code",
   "execution_count": null,
   "id": "5be5276c",
   "metadata": {},
   "outputs": [],
   "source": []
  },
  {
   "cell_type": "code",
   "execution_count": null,
   "id": "1e13f388",
   "metadata": {},
   "outputs": [],
   "source": []
  },
  {
   "cell_type": "code",
   "execution_count": null,
   "id": "3e29ab67",
   "metadata": {},
   "outputs": [],
   "source": []
  },
  {
   "cell_type": "code",
   "execution_count": null,
   "id": "05d942ae",
   "metadata": {},
   "outputs": [],
   "source": []
  }
 ],
 "metadata": {
  "kernelspec": {
   "display_name": "Python 3 (ipykernel)",
   "language": "python",
   "name": "python3"
  },
  "language_info": {
   "codemirror_mode": {
    "name": "ipython",
    "version": 3
   },
   "file_extension": ".py",
   "mimetype": "text/x-python",
   "name": "python",
   "nbconvert_exporter": "python",
   "pygments_lexer": "ipython3",
   "version": "3.9.7"
  }
 },
 "nbformat": 4,
 "nbformat_minor": 5
}
